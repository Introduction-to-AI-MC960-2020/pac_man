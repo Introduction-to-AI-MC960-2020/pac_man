{
 "cells": [
  {
   "cell_type": "code",
   "execution_count": 21,
   "metadata": {},
   "outputs": [],
   "source": [
    "from pac_man.search import hill_climbing\n",
    "from pac_man.utils import manhattan_distance\n",
    "from pac_man.pacman_problem_astar import PacManProblem\n",
    "from pac_man.maze_generator.generator import *"
   ]
  },
  {
   "cell_type": "code",
   "execution_count": 19,
   "metadata": {},
   "outputs": [],
   "source": [
    "def h(node, goal, maze):\n",
    "    return manhattan_distance(node, goal)\n",
    "\n",
    "\n",
    "def solve_hill(maze, draw=False, heuristic=h):\n",
    "    pacman_problem = PacManProblem(\n",
    "        maze.start_position, maze.goal_position, maze.maze_map, heuristic=h\n",
    "    )\n",
    "    root = hill_climbing(pacman_problem)\n",
    "    path = root[1]\n",
    "    \n",
    "    if draw:\n",
    "        maze.show_search_path(reached=path)\n",
    "    return path\n",
    "    "
   ]
  },
  {
   "cell_type": "code",
   "execution_count": 58,
   "metadata": {},
   "outputs": [
    {
     "data": {
      "image/png": "[encoded data removed]",
      "text/plain": [
       "<Figure size 432x288 with 1 Axes>"
      ]
     },
     "metadata": {
      "needs_background": "light"
     },
     "output_type": "display_data"
    },
    {
     "data": {
      "image/png": "[encoded data removed]",
      "text/plain": [
       "<Figure size 432x288 with 1 Axes>"
      ]
     },
     "metadata": {
      "needs_background": "light"
     },
     "output_type": "display_data"
    },
    {
     "data": {
      "text/plain": [
       "[(5, 1),\n",
       " (4, 1),\n",
       " (3, 1),\n",
       " (2, 1),\n",
       " (1, 1),\n",
       " (2, 1),\n",
       " (2, 2),\n",
       " (2, 3),\n",
       " (1, 3),\n",
       " (2, 3),\n",
       " (3, 3),\n",
       " (4, 3),\n",
       " (5, 3),\n",
       " (5, 4),\n",
       " (5, 5),\n",
       " (4, 5),\n",
       " (3, 5),\n",
       " (2, 5)]"
      ]
     },
     "execution_count": 58,
     "metadata": {},
     "output_type": "execute_result"
    }
   ],
   "source": [
    "maze = MAZE_simple_coin\n",
    "\n",
    "MAZE_7x7.show_search_path()\n",
    "solve_hill(MAZE_7x7, draw=True)"
   ]
  },
  {
   "cell_type": "code",
   "execution_count": 76,
   "metadata": {},
   "outputs": [
    {
     "data": {
      "text/plain": [
       "[1.4882956389919855,\n",
       " 2.0965833739901427,\n",
       " 2.886516988015501,\n",
       " 2.4424980979820248,\n",
       " 1.3481725929887034,\n",
       " 1.3512694299861323,\n",
       " 1.9822959630109835]"
      ]
     },
     "execution_count": 76,
     "metadata": {},
     "output_type": "execute_result"
    }
   ],
   "source": [
    "x.all_runs"
   ]
  },
  {
   "cell_type": "code",
   "execution_count": null,
   "metadata": {},
   "outputs": [],
   "source": []
  },
  {
   "cell_type": "code",
   "execution_count": 41,
   "metadata": {},
   "outputs": [
    {
     "data": {
      "text/plain": [
       "4"
      ]
     },
     "execution_count": 41,
     "metadata": {},
     "output_type": "execute_result"
    }
   ],
   "source": []
  },
  {
   "cell_type": "code",
   "execution_count": 77,
   "metadata": {},
   "outputs": [
    {
     "name": "stdout",
     "output_type": "stream",
     "text": [
      "225 µs ± 59.6 µs per loop (mean ± std. dev. of 10 runs, 10 loops each)\n",
      "481 µs ± 95.3 µs per loop (mean ± std. dev. of 10 runs, 10 loops each)\n",
      "848 µs ± 285 µs per loop (mean ± std. dev. of 10 runs, 10 loops each)\n",
      "837 µs ± 117 µs per loop (mean ± std. dev. of 10 runs, 10 loops each)\n",
      "1.27 ms ± 335 µs per loop (mean ± std. dev. of 10 runs, 10 loops each)\n",
      "991 µs ± 106 µs per loop (mean ± std. dev. of 10 runs, 10 loops each)\n",
      "2.61 ms ± 466 µs per loop (mean ± std. dev. of 10 runs, 10 loops each)\n",
      "2.2 ms ± 400 µs per loop (mean ± std. dev. of 10 runs, 10 loops each)\n",
      "19.3 ms ± 3.63 ms per loop (mean ± std. dev. of 10 runs, 10 loops each)\n"
     ]
    }
   ],
   "source": [
    "mazes = [\n",
    "    MAZE_6x6,\n",
    "    MAZE_7x7,\n",
    "    MAZE_8x8,\n",
    "    MAZE_9x9,\n",
    "    MAZE_10x10,\n",
    "    MAZE_11x11,\n",
    "    MAZE_14x14,\n",
    "    MAZE_21x21,\n",
    "    MAZE_42x42,\n",
    "]\n",
    "\n",
    "results = {}\n",
    "for maze in mazes:\n",
    "    map_len = len(maze.maze_map) ^ 2\n",
    "    result = %timeit -o -n10 -r10 solve_hill(maze)\n",
    "    results[map_len] = {\n",
    "        'avg': result.average,\n",
    "        'std': result.stdev,\n",
    "        'runs': result.all_runs\n",
    "    }"
   ]
  },
  {
   "cell_type": "code",
   "execution_count": 78,
   "metadata": {},
   "outputs": [
    {
     "data": {
      "text/plain": [
       "{4: {'avg': 0.00022531871974933892,\n",
       "  'std': 5.957284830219977e-05,\n",
       "  'runs': [0.0033228510001208633,\n",
       "   0.0019494740117806941,\n",
       "   0.003047935984795913,\n",
       "   0.0024519349972251803,\n",
       "   0.0017619400168769062,\n",
       "   0.0016228710010182112,\n",
       "   0.0015935080009512603,\n",
       "   0.0018124279740732163,\n",
       "   0.0028493819991126657,\n",
       "   0.002119546988978982]},\n",
       " 5: {'avg': 0.00048109283990925176,\n",
       "  'std': 9.525892873462104e-05,\n",
       "  'runs': [0.004734930989798158,\n",
       "   0.004583080997690558,\n",
       "   0.005628518993034959,\n",
       "   0.0042684760119300336,\n",
       "   0.003908467013388872,\n",
       "   0.005361826013540849,\n",
       "   0.004999630997190252,\n",
       "   0.003978536988142878,\n",
       "   0.0036372019967529923,\n",
       "   0.007008613989455625]},\n",
       " 10: {'avg': 0.0008475602199905553,\n",
       "  'std': 0.0002850665632258499,\n",
       "  'runs': [0.007115393003914505,\n",
       "   0.009465203009312972,\n",
       "   0.007310875982511789,\n",
       "   0.015931875997921452,\n",
       "   0.010428915993543342,\n",
       "   0.00658339200890623,\n",
       "   0.007986562995938584,\n",
       "   0.005787325004348531,\n",
       "   0.005914418987231329,\n",
       "   0.008232059015426785]},\n",
       " 11: {'avg': 0.0008367409004131331,\n",
       "  'std': 0.0001166270459583387,\n",
       "  'runs': [0.007841587997972965,\n",
       "   0.009741335001308471,\n",
       "   0.006840132991783321,\n",
       "   0.010612425016006455,\n",
       "   0.007670528982998803,\n",
       "   0.009231213014572859,\n",
       "   0.009003428014693782,\n",
       "   0.007032316003460437,\n",
       "   0.0076139360025990754,\n",
       "   0.008087187015917152]},\n",
       " 8: {'avg': 0.0012667248403886334,\n",
       "  'std': 0.0003350444921828615,\n",
       "  'runs': [0.011814010998932645,\n",
       "   0.00906161600141786,\n",
       "   0.012207505002152175,\n",
       "   0.010982305015204474,\n",
       "   0.008104680018732324,\n",
       "   0.012022543989587575,\n",
       "   0.011307292006677017,\n",
       "   0.014470975991571322,\n",
       "   0.016844919009599835,\n",
       "   0.019856636004988104]},\n",
       " 9: {'avg': 0.0009911108695087024,\n",
       "  'std': 0.0001057075720924908,\n",
       "  'runs': [0.010704642976634204,\n",
       "   0.01111625600606203,\n",
       "   0.010878897999646142,\n",
       "   0.00891187900560908,\n",
       "   0.010237487003905699,\n",
       "   0.008091942989267409,\n",
       "   0.010295522981323302,\n",
       "   0.008362594002392143,\n",
       "   0.00956398798734881,\n",
       "   0.010947875998681411]},\n",
       " 12: {'avg': 0.002608965449908283,\n",
       "  'std': 0.0004662698524552494,\n",
       "  'runs': [0.024376638990361243,\n",
       "   0.025144649000139907,\n",
       "   0.02283553298912011,\n",
       "   0.021277901018038392,\n",
       "   0.024425998009974137,\n",
       "   0.038784345000749454,\n",
       "   0.028793575998861343,\n",
       "   0.024616009992314503,\n",
       "   0.02694117499049753,\n",
       "   0.02370071900077164]},\n",
       " 23: {'avg': 0.002199435359216295,\n",
       "  'std': 0.00039962842590585395,\n",
       "  'runs': [0.020138655992923304,\n",
       "   0.02171926200389862,\n",
       "   0.016295120993163437,\n",
       "   0.023147688974859193,\n",
       "   0.01938120200065896,\n",
       "   0.026356655987910926,\n",
       "   0.01997280999785289,\n",
       "   0.023437800002284348,\n",
       "   0.018615785986185074,\n",
       "   0.030878553981892765]},\n",
       " 40: {'avg': 0.01932271988975117,\n",
       "  'std': 0.0036343919941703787,\n",
       "  'runs': [0.17283216401119716,\n",
       "   0.2098887600004673,\n",
       "   0.21700414700899273,\n",
       "   0.17453096699318849,\n",
       "   0.1961372559890151,\n",
       "   0.10896210599457845,\n",
       "   0.2186529629980214,\n",
       "   0.23313577799126506,\n",
       "   0.2333088029990904,\n",
       "   0.1678190449893009]}}"
      ]
     },
     "execution_count": 78,
     "metadata": {},
     "output_type": "execute_result"
    }
   ],
   "source": [
    "results"
   ]
  },
  {
   "cell_type": "code",
   "execution_count": 60,
   "metadata": {},
   "outputs": [],
   "source": [
    "import seaborn as sns\n",
    "import pandas as pd"
   ]
  },
  {
   "cell_type": "code",
   "execution_count": 72,
   "metadata": {},
   "outputs": [],
   "source": [
    "size = list(results.keys())"
   ]
  },
  {
   "cell_type": "code",
   "execution_count": 73,
   "metadata": {},
   "outputs": [],
   "source": [
    "avg = [data[\"avg\"] for data in results.values()]"
   ]
  },
  {
   "cell_type": "code",
   "execution_count": 86,
   "metadata": {},
   "outputs": [
    {
     "data": {
      "text/plain": [
       "<matplotlib.axes._subplots.AxesSubplot at 0x7f621329eeb8>"
      ]
     },
     "execution_count": 86,
     "metadata": {},
     "output_type": "execute_result"
    },
    {
     "data": {
      "image/png": "[encoded data removed]",
      "text/plain": [
       "<Figure size 432x288 with 1 Axes>"
      ]
     },
     "metadata": {
      "needs_background": "light"
     },
     "output_type": "display_data"
    }
   ],
   "source": [
    "sns.scatterplot(size, avg)"
   ]
  },
  {
   "cell_type": "code",
   "execution_count": 80,
   "metadata": {},
   "outputs": [],
   "source": [
    "all_runs = [data[\"runs\"] for data in results.values()]"
   ]
  },
  {
   "cell_type": "code",
   "execution_count": 91,
   "metadata": {},
   "outputs": [
    {
     "data": {
      "image/png": "[encoded data removed]",
      "text/plain": [
       "<Figure size 432x288 with 1 Axes>"
      ]
     },
     "metadata": {
      "needs_background": "light"
     },
     "output_type": "display_data"
    }
   ],
   "source": [
    "sns.boxplot(x=size, y=all_runs).set_yscale(\"log\")"
   ]
  },
  {
   "cell_type": "code",
   "execution_count": null,
   "metadata": {},
   "outputs": [],
   "source": []
  }
 ],
 "metadata": {
  "kernelspec": {
   "display_name": "Python 3",
   "language": "python",
   "name": "python3"
  },
  "language_info": {
   "codemirror_mode": {
    "name": "ipython",
    "version": 3
   },
   "file_extension": ".py",
   "mimetype": "text/x-python",
   "name": "python",
   "nbconvert_exporter": "python",
   "pygments_lexer": "ipython3",
   "version": "3.7.3"
  },
  "toc": {
   "base_numbering": 1,
   "nav_menu": {},
   "number_sections": true,
   "sideBar": true,
   "skip_h1_title": false,
   "title_cell": "Table of Contents",
   "title_sidebar": "Contents",
   "toc_cell": false,
   "toc_position": {},
   "toc_section_display": true,
   "toc_window_display": false
  }
 },
 "nbformat": 4,
 "nbformat_minor": 2
}
