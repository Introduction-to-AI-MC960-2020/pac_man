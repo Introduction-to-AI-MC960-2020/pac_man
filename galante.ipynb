{
 "cells": [
  {
   "cell_type": "markdown",
   "metadata": {},
   "source": [
    "# Best First Search"
   ]
  },
  {
   "cell_type": "markdown",
   "metadata": {},
   "source": [
    "Best first search is an informed (heuristic) search, that decides which path to transverse based on a greedy choice of which of the adjacent nodes is the most promising i.e., closest to the destination. To do so it makes use of a priotity queue with node distances. For this algorithm, alongside the a star algorithm, we make use of manhattan distance. "
   ]
  },
  {
   "cell_type": "markdown",
   "metadata": {},
   "source": [
    "Best first search algorithm with manhattan distance heuristic only, does not consider coin value, only fastest position to the end."
   ]
  },
  {
   "cell_type": "code",
   "execution_count": 2,
   "metadata": {},
   "outputs": [
    {
     "data": {
      "image/png": "[encoded data removed]",
      "text/plain": [
       "<Figure size 432x288 with 1 Axes>"
      ]
     },
     "metadata": {},
     "output_type": "display_data"
    },
    {
     "data": {
      "image/png": "[encoded data removed]",
      "text/plain": [
       "<Figure size 432x288 with 1 Axes>"
      ]
     },
     "metadata": {},
     "output_type": "display_data"
    }
   ],
   "source": [
    "from pac_man.search import best_first_graph_search, uniform_cost_search\n",
    "from pac_man.pacman_problem import PacManProblem\n",
    "from pac_man.maze_generator import generator\n",
    "from pac_man.utils import manhattan_distance\n",
    "from pac_man.maze_generator import state\n",
    "\n",
    "def h(node, goal, maze):    \n",
    "    return manhattan_distance(node.state, goal)\n",
    "\n",
    "maze = generator.MAZE_14\n",
    "\n",
    "problem = PacManProblem(initial=maze.start_position, goal=maze.goal_position, \n",
    "                        maze_map=maze.maze_map)\n",
    "\n",
    "heuristic = lambda node, goal=maze.goal_position, maze=maze.maze_map : h(node, goal, maze)  \n",
    "\n",
    "root = best_first_graph_search(problem,heuristic)\n",
    "maze.show_search_path()\n",
    "maze.show_search_path(reached=root.solution())"
   ]
  },
  {
   "cell_type": "markdown",
   "metadata": {},
   "source": [
    "Best first search, unlike a star, is not an optimal algorithm, and path from start to finish might not be as great as a star. Both however are quite similiar, with the main difference being the evaluation function to decide shortest path, a star makes use of f(n) = g(n) + h(n), while bfs in the greedy form makes use of f(n) = h(n), where h(n) is the heuristic function and g(n) is the distance from the start position to the adjacent positions. However a star does make more use of memory than greedy bfs as a counter exchange."
   ]
  },
  {
   "cell_type": "markdown",
   "metadata": {},
   "source": [
    "Modifying the heuristic to consider coin weights instead of simply distances changes the outcome behaviour to collect the coins and minimize distance. The outcome is the same as a star algorithm. Note: the chosen heuristic will still attempt to minimize distance over coin collection, the inverse is not valid."
   ]
  },
  {
   "cell_type": "code",
   "execution_count": 3,
   "metadata": {},
   "outputs": [
    {
     "data": {
      "image/png": "[encoded data removed]",
      "text/plain": [
       "<Figure size 432x288 with 1 Axes>"
      ]
     },
     "metadata": {},
     "output_type": "display_data"
    },
    {
     "data": {
      "image/png": "[encoded data removed]",
      "text/plain": [
       "<Figure size 432x288 with 1 Axes>"
      ]
     },
     "metadata": {},
     "output_type": "display_data"
    }
   ],
   "source": [
    "from pac_man.search import best_first_graph_search, uniform_cost_search\n",
    "from pac_man.pacman_problem import PacManProblem\n",
    "from pac_man.maze_generator import generator\n",
    "from pac_man.utils import manhattan_distance\n",
    "from pac_man.maze_generator import state\n",
    "\n",
    "def h(node, goal, maze):\n",
    "    i, j = node.state\n",
    "    d = manhattan_distance(node.state, goal)\n",
    "    if maze[i][j] == state.COIN:        \n",
    "        return d-2\n",
    "    return d\n",
    "\n",
    "maze = generator.MAZE_14\n",
    "problem = PacManProblem(initial=maze.start_position, goal=maze.goal_position, \n",
    "                        maze_map=maze.maze_map)\n",
    "\n",
    "heuristic = lambda node, goal=maze.goal_position, maze=maze.maze_map : h(node, goal, maze)\n",
    "\n",
    "root = best_first_graph_search(problem,heuristic)\n",
    "maze.show_search_path()\n",
    "maze.show_search_path(reached=root.solution())"
   ]
  },
  {
   "cell_type": "markdown",
   "metadata": {},
   "source": [
    "Below is the comparison of 3 heuristics, one considering simply positions, and the other two consider coin cost. Note than when coin cost is taken into account, the algorithm will deviate the path to maximize coin collection."
   ]
  },
  {
   "cell_type": "code",
   "execution_count": 4,
   "metadata": {},
   "outputs": [
    {
     "data": {
      "image/png": "[encoded data removed]",
      "text/plain": [
       "<Figure size 432x288 with 1 Axes>"
      ]
     },
     "metadata": {},
     "output_type": "display_data"
    },
    {
     "data": {
      "image/png": "[encoded data removed]",
      "text/plain": [
       "<Figure size 432x288 with 1 Axes>"
      ]
     },
     "metadata": {},
     "output_type": "display_data"
    },
    {
     "data": {
      "image/png": "[encoded data removed]",
      "text/plain": [
       "<Figure size 432x288 with 1 Axes>"
      ]
     },
     "metadata": {},
     "output_type": "display_data"
    },
    {
     "data": {
      "image/png": "[encoded data removed]",
      "text/plain": [
       "<Figure size 432x288 with 1 Axes>"
      ]
     },
     "metadata": {},
     "output_type": "display_data"
    }
   ],
   "source": [
    "from pac_man.search import best_first_graph_search, uniform_cost_search\n",
    "from pac_man.pacman_problem import PacManProblem\n",
    "from pac_man.maze_generator import generator\n",
    "from pac_man.utils import manhattan_distance\n",
    "from pac_man.maze_generator import state\n",
    "\n",
    "def h(node, goal, maze):    \n",
    "    return manhattan_distance(node.state, goal)\n",
    "\n",
    "def h_1(node, goal, maze):\n",
    "    i, j = node.state\n",
    "    d = manhattan_distance(node.state, goal)\n",
    "    if maze[i][j] == state.COIN:        \n",
    "        return d-1\n",
    "    return d\n",
    "\n",
    "def h_2(node, goal, maze):\n",
    "    i, j = node.state\n",
    "    d = manhattan_distance(node.state, goal)\n",
    "    if maze[i][j] == state.COIN:        \n",
    "        return d-2\n",
    "    return d\n",
    "\n",
    "maze = generator.MAZE_simple_coin\n",
    "problem = PacManProblem(initial=maze.start_position, goal=maze.goal_position, \n",
    "                        maze_map=maze.maze_map)\n",
    "heuristic = lambda node, goal=maze.goal_position, maze=maze.maze_map : h(node, goal, maze)\n",
    "root = best_first_graph_search(problem,heuristic)\n",
    "maze.show_search_path()\n",
    "maze.show_search_path(reached=root.solution())\n",
    "\n",
    "problem = PacManProblem(initial=maze.start_position, goal=maze.goal_position, \n",
    "                        maze_map=maze.maze_map)\n",
    "heuristic = lambda node, goal=maze.goal_position, maze=maze.maze_map : h_1(node, goal, maze)\n",
    "root = best_first_graph_search(problem,heuristic)\n",
    "maze.show_search_path(reached=root.solution())\n",
    "\n",
    "problem = PacManProblem(initial=maze.start_position, goal=maze.goal_position, \n",
    "                        maze_map=maze.maze_map)\n",
    "heuristic = lambda node, goal=maze.goal_position, maze=maze.maze_map : h_2(node, goal, maze)\n",
    "root = best_first_graph_search(problem,heuristic)\n",
    "maze.show_search_path(reached=root.solution())"
   ]
  },
  {
   "cell_type": "markdown",
   "metadata": {},
   "source": [
    "Below is the same comparison as above, however in a larger maze. The main difference from greedy bfs to a star is that a star found a more optimal path from start to finish no matter which heuristic. And also, the optimal solution found in a star, was also the same with coin collection consideration, while greedy bfs had a to perform a minor deviation to collect coin and possess same path outcome."
   ]
  },
  {
   "cell_type": "code",
   "execution_count": null,
   "metadata": {
    "collapsed": true
   },
   "outputs": [],
   "source": []
  },
  {
   "cell_type": "code",
   "execution_count": 5,
   "metadata": {},
   "outputs": [
    {
     "data": {
      "image/png": "[encoded data removed]",
      "text/plain": [
       "<Figure size 432x288 with 1 Axes>"
      ]
     },
     "metadata": {},
     "output_type": "display_data"
    },
    {
     "data": {
      "image/png": "[encoded data removed]",
      "text/plain": [
       "<Figure size 432x288 with 1 Axes>"
      ]
     },
     "metadata": {},
     "output_type": "display_data"
    },
    {
     "data": {
      "image/png": "[encoded data removed]",
      "text/plain": [
       "<Figure size 432x288 with 1 Axes>"
      ]
     },
     "metadata": {},
     "output_type": "display_data"
    },
    {
     "data": {
      "image/png": "[encoded data removed]",
      "text/plain": [
       "<Figure size 432x288 with 1 Axes>"
      ]
     },
     "metadata": {},
     "output_type": "display_data"
    }
   ],
   "source": [
    "from pac_man.search import best_first_graph_search, uniform_cost_search\n",
    "from pac_man.pacman_problem import PacManProblem\n",
    "from pac_man.maze_generator import generator\n",
    "from pac_man.utils import manhattan_distance\n",
    "from pac_man.maze_generator import state\n",
    "\n",
    "def h(node, goal, maze):    \n",
    "    return manhattan_distance(node.state, goal)\n",
    "\n",
    "def h_1(node, goal, maze):\n",
    "    i, j = node.state\n",
    "    d = manhattan_distance(node.state, goal)\n",
    "    if maze[i][j] == state.COIN:        \n",
    "        return d-1\n",
    "    return d\n",
    "\n",
    "def h_2(node, goal, maze):\n",
    "    i, j = node.state\n",
    "    d = manhattan_distance(node.state, goal)\n",
    "    if maze[i][j] == state.COIN:        \n",
    "        return d-2\n",
    "    return d\n",
    "\n",
    "maze = generator.MAZE_3\n",
    "problem = PacManProblem(initial=maze.start_position, goal=maze.goal_position, \n",
    "                        maze_map=maze.maze_map)\n",
    "heuristic = lambda node, goal=maze.goal_position, maze=maze.maze_map : h(node, goal, maze)\n",
    "root = best_first_graph_search(problem,heuristic)\n",
    "maze.show_search_path()\n",
    "maze.show_search_path(reached=root.solution())\n",
    "\n",
    "problem = PacManProblem(initial=maze.start_position, goal=maze.goal_position, \n",
    "                        maze_map=maze.maze_map)\n",
    "heuristic = lambda node, goal=maze.goal_position, maze=maze.maze_map : h_1(node, goal, maze)\n",
    "root = best_first_graph_search(problem,heuristic)\n",
    "maze.show_search_path(reached=root.solution())\n",
    "\n",
    "problem = PacManProblem(initial=maze.start_position, goal=maze.goal_position, \n",
    "                        maze_map=maze.maze_map)\n",
    "heuristic = lambda node, goal=maze.goal_position, maze=maze.maze_map : h_2(node, goal, maze)\n",
    "root = best_first_graph_search(problem,heuristic)\n",
    "maze.show_search_path(reached=root.solution())"
   ]
  },
  {
   "cell_type": "markdown",
   "metadata": {},
   "source": [
    "At last, in this example, no matter the heuristic, a star and greedy bfs did not perform a change in their path. The only difference amongst them is that a star found the optimal path, while greedy bfs found a path."
   ]
  },
  {
   "cell_type": "code",
   "execution_count": 6,
   "metadata": {},
   "outputs": [
    {
     "data": {
      "image/png": "[encoded data removed]",
      "text/plain": [
       "<Figure size 432x288 with 1 Axes>"
      ]
     },
     "metadata": {},
     "output_type": "display_data"
    },
    {
     "data": {
      "image/png": "[encoded data removed]",
      "text/plain": [
       "<Figure size 432x288 with 1 Axes>"
      ]
     },
     "metadata": {},
     "output_type": "display_data"
    },
    {
     "data": {
      "image/png": "[encoded data removed]",
      "text/plain": [
       "<Figure size 432x288 with 1 Axes>"
      ]
     },
     "metadata": {},
     "output_type": "display_data"
    },
    {
     "data": {
      "image/png": "[encoded data removed]",
      "text/plain": [
       "<Figure size 432x288 with 1 Axes>"
      ]
     },
     "metadata": {},
     "output_type": "display_data"
    }
   ],
   "source": [
    "from pac_man.search import best_first_graph_search, uniform_cost_search\n",
    "from pac_man.pacman_problem import PacManProblem\n",
    "from pac_man.maze_generator import generator\n",
    "from pac_man.utils import manhattan_distance\n",
    "from pac_man.maze_generator import state\n",
    "\n",
    "def h(node, goal, maze):    \n",
    "    return manhattan_distance(node.state, goal)\n",
    "\n",
    "def h_1(node, goal, maze):\n",
    "    i, j = node.state\n",
    "    d = manhattan_distance(node.state, goal)\n",
    "    if maze[i][j] == state.COIN:        \n",
    "        return d-1\n",
    "    return d\n",
    "\n",
    "def h_2(node, goal, maze):\n",
    "    i, j = node.state\n",
    "    d = manhattan_distance(node.state, goal)\n",
    "    if maze[i][j] == state.COIN:        \n",
    "        return d-2\n",
    "    return d\n",
    "\n",
    "maze = generator.MAZE_5\n",
    "problem = PacManProblem(initial=maze.start_position, goal=maze.goal_position, \n",
    "                        maze_map=maze.maze_map)\n",
    "heuristic = lambda node, goal=maze.goal_position, maze=maze.maze_map : h(node, goal, maze)\n",
    "root = best_first_graph_search(problem,heuristic)\n",
    "maze.show_search_path()\n",
    "maze.show_search_path(reached=root.solution())\n",
    "\n",
    "problem = PacManProblem(initial=maze.start_position, goal=maze.goal_position, \n",
    "                        maze_map=maze.maze_map)\n",
    "heuristic = lambda node, goal=maze.goal_position, maze=maze.maze_map : h_1(node, goal, maze)\n",
    "root = best_first_graph_search(problem,heuristic)\n",
    "maze.show_search_path(reached=root.solution())\n",
    "\n",
    "problem = PacManProblem(initial=maze.start_position, goal=maze.goal_position, \n",
    "                        maze_map=maze.maze_map)\n",
    "heuristic = lambda node, goal=maze.goal_position, maze=maze.maze_map : h_2(node, goal, maze)\n",
    "root = best_first_graph_search(problem,heuristic)\n",
    "maze.show_search_path(reached=root.solution())"
   ]
  },
  {
   "cell_type": "code",
   "execution_count": null,
   "metadata": {},
   "outputs": [],
   "source": []
  }
 ],
 "metadata": {
  "kernelspec": {
   "display_name": "Python 3",
   "language": "python",
   "name": "python3"
  },
  "language_info": {
   "codemirror_mode": {
    "name": "ipython",
    "version": 3
   },
   "file_extension": ".py",
   "mimetype": "text/x-python",
   "name": "python",
   "nbconvert_exporter": "python",
   "pygments_lexer": "ipython3",
   "version": "3.6.9"
  }
 },
 "nbformat": 4,
 "nbformat_minor": 2
}
