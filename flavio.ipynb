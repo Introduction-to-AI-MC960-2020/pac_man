{
 "cells": [
  {
   "cell_type": "markdown",
   "metadata": {},
   "source": [
    "# Required Imports"
   ]
  },
  {
   "cell_type": "code",
   "execution_count": 1,
   "metadata": {},
   "outputs": [],
   "source": [
    "from pac_man.search import iterative_deepening_search\n",
    "from pac_man.pacman_problem import PacManProblem\n",
    "from pac_man.pacman_problem_2 import PacManProblem2\n",
    "from pac_man.pacman_problem_3 import PacManProblem3\n",
    "from pac_man.maze_generator import generator"
   ]
  },
  {
   "cell_type": "markdown",
   "metadata": {},
   "source": [
    "# Iterative Deepening Search"
   ]
  },
  {
   "cell_type": "markdown",
   "metadata": {},
   "source": [
    "This method combines the good side of two algorithmns, breadth first search and depth first search, because it is an algorithm with memory complexity of dfs (which is lower when compared to bfs complexity), but it is complete like bfs."
   ]
  },
  {
   "cell_type": "markdown",
   "metadata": {},
   "source": [
    "### Testes com diferentes modelagens do problema"
   ]
  },
  {
   "cell_type": "markdown",
   "metadata": {},
   "source": [
    "On these tests, we can see this uninformed search method always finds the fastest path to the goal, regardless of the way the problem was modeld. It never optimizes the number of collected coins, once it does not inspect the cost function, and gets based only on the proximity of the goal"
   ]
  },
  {
   "cell_type": "markdown",
   "metadata": {},
   "source": [
    "The bigger maze in which we could run this algorithm was an 8x8, on mazes with size upper than that the search method did not provide a solution in a reasonable time"
   ]
  },
  {
   "cell_type": "code",
   "execution_count": 2,
   "metadata": {},
   "outputs": [
    {
     "data": {
      "image/png": "[encoded data removed]",
      "text/plain": [
       "<Figure size 432x288 with 1 Axes>"
      ]
     },
     "metadata": {
      "needs_background": "light"
     },
     "output_type": "display_data"
    },
    {
     "data": {
      "image/png": "[encoded data removed]",
      "text/plain": [
       "<Figure size 432x288 with 1 Axes>"
      ]
     },
     "metadata": {
      "needs_background": "light"
     },
     "output_type": "display_data"
    }
   ],
   "source": [
    "maze = generator.MAZE_simple_coin\n",
    "\n",
    "pacman_problem = PacManProblem(maze.start_position, maze.goal_position, maze.maze_map)\n",
    "root = iterative_deepening_search(pacman_problem)\n",
    "path = root.solution()\n",
    "\n",
    "maze.show_search_path()\n",
    "maze.show_search_path(reached=path)"
   ]
  },
  {
   "cell_type": "code",
   "execution_count": 3,
   "metadata": {},
   "outputs": [
    {
     "data": {
      "image/png": "[encoded data removed]",
      "text/plain": [
       "<Figure size 432x288 with 1 Axes>"
      ]
     },
     "metadata": {
      "needs_background": "light"
     },
     "output_type": "display_data"
    },
    {
     "data": {
      "image/png": "[encoded data removed]",
      "text/plain": [
       "<Figure size 432x288 with 1 Axes>"
      ]
     },
     "metadata": {
      "needs_background": "light"
     },
     "output_type": "display_data"
    }
   ],
   "source": [
    "maze = generator.MAZE_1\n",
    "\n",
    "pacman_problem = PacManProblem3(maze.start_position, maze.goal_position, maze.maze_map)\n",
    "root = iterative_deepening_search(pacman_problem)\n",
    "path = root.solution()\n",
    "\n",
    "maze.show_search_path()\n",
    "maze.show_search_path(reached=path)"
   ]
  },
  {
   "cell_type": "markdown",
   "metadata": {},
   "source": [
    "Next we can see the same maze being processed with three different cost functions for the problem, since the algorithm does not inspect the function, the result is always the same"
   ]
  },
  {
   "cell_type": "code",
   "execution_count": 4,
   "metadata": {},
   "outputs": [
    {
     "data": {
      "image/png": "[encoded data removed]",
      "text/plain": [
       "<Figure size 432x288 with 1 Axes>"
      ]
     },
     "metadata": {
      "needs_background": "light"
     },
     "output_type": "display_data"
    },
    {
     "data": {
      "image/png": "[encoded data removed]",
      "text/plain": [
       "<Figure size 432x288 with 1 Axes>"
      ]
     },
     "metadata": {
      "needs_background": "light"
     },
     "output_type": "display_data"
    }
   ],
   "source": [
    "maze = generator.MAZE_X\n",
    "\n",
    "pacman_problem = PacManProblem(maze.start_position, maze.goal_position, maze.maze_map)\n",
    "root = iterative_deepening_search(pacman_problem)\n",
    "path = root.solution()\n",
    "\n",
    "maze.show_search_path()\n",
    "maze.show_search_path(reached=path)"
   ]
  },
  {
   "cell_type": "code",
   "execution_count": 5,
   "metadata": {},
   "outputs": [
    {
     "data": {
      "image/png": "[encoded data removed]",
      "text/plain": [
       "<Figure size 432x288 with 1 Axes>"
      ]
     },
     "metadata": {
      "needs_background": "light"
     },
     "output_type": "display_data"
    },
    {
     "data": {
      "image/png": "[encoded data removed]",
      "text/plain": [
       "<Figure size 432x288 with 1 Axes>"
      ]
     },
     "metadata": {
      "needs_background": "light"
     },
     "output_type": "display_data"
    }
   ],
   "source": [
    "maze = generator.MAZE_X\n",
    "\n",
    "pacman_problem = PacManProblem2(maze.start_position, maze.goal_position, maze.maze_map)\n",
    "root = iterative_deepening_search(pacman_problem)\n",
    "path = root.solution()\n",
    "\n",
    "maze.show_search_path()\n",
    "maze.show_search_path(reached=path)"
   ]
  },
  {
   "cell_type": "code",
   "execution_count": 6,
   "metadata": {},
   "outputs": [
    {
     "data": {
      "image/png": "[encoded data removed]",
      "text/plain": [
       "<Figure size 432x288 with 1 Axes>"
      ]
     },
     "metadata": {
      "needs_background": "light"
     },
     "output_type": "display_data"
    },
    {
     "data": {
      "image/png": "[encoded data removed]",
      "text/plain": [
       "<Figure size 432x288 with 1 Axes>"
      ]
     },
     "metadata": {
      "needs_background": "light"
     },
     "output_type": "display_data"
    }
   ],
   "source": [
    "maze = generator.MAZE_X\n",
    "\n",
    "pacman_problem = PacManProblem3(maze.start_position, maze.goal_position, maze.maze_map)\n",
    "root = iterative_deepening_search(pacman_problem)\n",
    "path = root.solution()\n",
    "\n",
    "maze.show_search_path()\n",
    "maze.show_search_path(reached=path)"
   ]
  }
 ],
 "metadata": {
  "kernelspec": {
   "display_name": "Python 3",
   "language": "python",
   "name": "python3"
  },
  "language_info": {
   "codemirror_mode": {
    "name": "ipython",
    "version": 3
   },
   "file_extension": ".py",
   "mimetype": "text/x-python",
   "name": "python",
   "nbconvert_exporter": "python",
   "pygments_lexer": "ipython3",
   "version": "3.7.4"
  }
 },
 "nbformat": 4,
 "nbformat_minor": 4
}
