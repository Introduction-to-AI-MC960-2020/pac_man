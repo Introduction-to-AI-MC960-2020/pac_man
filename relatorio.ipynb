{
 "cells": [
  {
   "cell_type": "markdown",
   "metadata": {
    "colab_type": "text",
    "id": "z6nY1SdgSNrP"
   },
   "source": [
    "# **Algorithms Exploratory Analysis**"
   ]
  },
  {
   "cell_type": "markdown",
   "metadata": {
    "colab_type": "text",
    "id": "6Dn0fEUTumdt"
   },
   "source": [
    "In the first part of the report we make an exploratory analysis of each algorithm that we've chosen to study in this project, after that there is a performance comparison between them"
   ]
  },
  {
   "cell_type": "markdown",
   "metadata": {
    "colab_type": "text",
    "id": "FQIaG74X8vl5"
   },
   "source": [
    "## General Modeling\n"
   ]
  },
  {
   "cell_type": "markdown",
   "metadata": {
    "colab_type": "text",
    "id": "bAlNQEHE76xF"
   },
   "source": [
    "In this work we have modeled the problem according to four base approaches, all of them consider the \n",
    "Maze as a matrix made of walls, ghosts, coins and free positions. Just the positions containing a coin or free positions can be run, thus in our models there is no difference between walls and ghosts, both are not permitted. The start and the target positions are also indicated in the maze matrix.\n",
    "\n",
    "The four approaches differs from each other on the **path cost**:\n",
    "    \n",
    "* 1 - Each step has cost 1;    \n",
    "\n",
    "* 2 - Each step has cost 1 if the next position doesn't contain a coin, otherwise it costs -1;\n",
    "\n",
    "* 3 - Each step has cost 1 if the next position doesn't contain a coin, otherwise it costs -2;    \n",
    "\n",
    "* 4 - Each step has cost 0 if the next position doesn't contain a coin, otherwise it costs -1.\n",
    "\n",
    "The function cost 1 aims to **minimize the path cost**, whereas the others tries to catch some coins even running through a bit longer path."
   ]
  },
  {
   "cell_type": "markdown",
   "metadata": {
    "colab_type": "text",
    "id": "Pz_Bl1lfxDWJ"
   },
   "source": [
    "## **Required Imports**"
   ]
  },
  {
   "cell_type": "code",
   "execution_count": 1,
   "metadata": {
    "colab": {
     "base_uri": "https://localhost:8080/",
     "height": 384
    },
    "colab_type": "code",
    "id": "fH3wwkrYSMEY",
    "outputId": "e1606500-59f5-47ec-e18c-747febae0090"
   },
   "outputs": [],
   "source": [
    "from pac_man.search import uniform_cost_search\n",
    "from pac_man.search import iterative_deepening_search\n",
    "from pac_man.pacman_problem import PacManProblem\n",
    "from pac_man.pacman_problem_2 import PacManProblem2\n",
    "from pac_man.pacman_problem_3 import PacManProblem3\n",
    "from pac_man.maze_generator import generator"
   ]
  },
  {
   "cell_type": "markdown",
   "metadata": {
    "colab_type": "text",
    "id": "MP5PfovCv5j6"
   },
   "source": [
    "## **Uniform Cost Search**"
   ]
  },
  {
   "cell_type": "markdown",
   "metadata": {
    "colab_type": "text",
    "id": "rrwCgHyH8Pya"
   },
   "source": [
    "We consider the 3rd model, in which each step has cost 1 if the next position doesn't contain a coin, otherwise it costs -2. We compare two mazes with and without coins, in order to see if it impacts on the chosen path."
   ]
  },
  {
   "cell_type": "markdown",
   "metadata": {
    "colab_type": "text",
    "id": "OLdeh9EnTFuV"
   },
   "source": [
    "### 3th model: Maze without coins"
   ]
  },
  {
   "cell_type": "code",
   "execution_count": 43,
   "metadata": {
    "colab": {
     "base_uri": "https://localhost:8080/",
     "height": 479
    },
    "colab_type": "code",
    "id": "3Q-L3Ip6TLan",
    "outputId": "618e377f-52db-4220-e88f-e910b84caaab"
   },
   "outputs": [
    {
     "data": {
      "image/png": "[encoded data removed]",
      "text/plain": [
       "<Figure size 432x288 with 1 Axes>"
      ]
     },
     "metadata": {
      "needs_background": "light"
     },
     "output_type": "display_data"
    },
    {
     "data": {
      "image/png": "[encoded data removed]",
      "text/plain": [
       "<Figure size 432x288 with 1 Axes>"
      ]
     },
     "metadata": {
      "needs_background": "light"
     },
     "output_type": "display_data"
    }
   ],
   "source": [
    "maze = generator.MAZE_teste\n",
    "problem = PacManProblem(initial=maze.start_position, goal=maze.goal_position, maze_map=maze.maze_map)\n",
    "root = uniform_cost_search(problem)\n",
    "path = root.solution()\n",
    "\n",
    "maze.show_search_path()\n",
    "maze.show_search_path(reached=path)"
   ]
  },
  {
   "cell_type": "markdown",
   "metadata": {
    "colab_type": "text",
    "id": "MxIvWpx3Vbu4"
   },
   "source": [
    "### 3th model: Maze with a coin"
   ]
  },
  {
   "cell_type": "code",
   "execution_count": 40,
   "metadata": {
    "colab": {
     "base_uri": "https://localhost:8080/",
     "height": 479
    },
    "colab_type": "code",
    "id": "IdTZ9DvsVeUs",
    "outputId": "fd87d9a0-1273-4524-cbfe-e5d6e06e7438"
   },
   "outputs": [
    {
     "data": {
      "image/png": "[encoded data removed]",
      "text/plain": [
       "<Figure size 432x288 with 1 Axes>"
      ]
     },
     "metadata": {
      "needs_background": "light"
     },
     "output_type": "display_data"
    },
    {
     "data": {
      "image/png": "[encoded data removed]",
      "text/plain": [
       "<Figure size 432x288 with 1 Axes>"
      ]
     },
     "metadata": {
      "needs_background": "light"
     },
     "output_type": "display_data"
    }
   ],
   "source": [
    "maze = generator.MAZE_teste_coin\n",
    "problem = PacManProblem(initial=maze.start_position, goal=maze.goal_position, maze_map=maze.maze_map)\n",
    "root = uniform_cost_search(problem)\n",
    "path = root.solution()\n",
    "\n",
    "maze.show_search_path()\n",
    "maze.show_search_path(reached=path)"
   ]
  },
  {
   "cell_type": "markdown",
   "metadata": {
    "colab_type": "text",
    "id": "qSZxA1Ja-JQ3"
   },
   "source": [
    "Now, we tested the 2nd and the 4th models to compare it with the previous one."
   ]
  },
  {
   "cell_type": "markdown",
   "metadata": {
    "colab_type": "text",
    "id": "TCdNhXpcu_ES"
   },
   "source": [
    "### 2nd Model"
   ]
  },
  {
   "cell_type": "code",
   "execution_count": 41,
   "metadata": {
    "colab": {
     "base_uri": "https://localhost:8080/",
     "height": 479
    },
    "colab_type": "code",
    "id": "hL6r0EU8vCT5",
    "outputId": "79787662-9b21-467c-8c52-c172070c18ff"
   },
   "outputs": [
    {
     "data": {
      "image/png": "[encoded data removed]",
      "text/plain": [
       "<Figure size 432x288 with 1 Axes>"
      ]
     },
     "metadata": {
      "needs_background": "light"
     },
     "output_type": "display_data"
    },
    {
     "data": {
      "image/png": "[encoded data removed]",
      "text/plain": [
       "<Figure size 432x288 with 1 Axes>"
      ]
     },
     "metadata": {
      "needs_background": "light"
     },
     "output_type": "display_data"
    }
   ],
   "source": [
    "maze = generator.MAZE_teste_coin\n",
    "problem = PacManProblem2(initial=maze.start_position, goal=maze.goal_position, maze_map=maze.maze_map)\n",
    "root = uniform_cost_search(problem)\n",
    "path = root.solution()\n",
    "\n",
    "maze.show_search_path()\n",
    "maze.show_search_path(reached=path)"
   ]
  },
  {
   "cell_type": "markdown",
   "metadata": {
    "colab_type": "text",
    "id": "qB6uzVZr3AlX"
   },
   "source": [
    "### 4th Model"
   ]
  },
  {
   "cell_type": "code",
   "execution_count": 5,
   "metadata": {
    "colab": {
     "base_uri": "https://localhost:8080/",
     "height": 479
    },
    "colab_type": "code",
    "id": "nneG5w0p3gWs",
    "outputId": "ca8a63c0-d6e8-44a0-aed8-a66dc86c43cf"
   },
   "outputs": [
    {
     "data": {
      "image/png": "[encoded data removed]",
      "text/plain": [
       "<Figure size 432x288 with 1 Axes>"
      ]
     },
     "metadata": {
      "needs_background": "light"
     },
     "output_type": "display_data"
    },
    {
     "data": {
      "image/png": "[encoded data removed]",
      "text/plain": [
       "<Figure size 432x288 with 1 Axes>"
      ]
     },
     "metadata": {
      "needs_background": "light"
     },
     "output_type": "display_data"
    }
   ],
   "source": [
    "maze = generator.MAZE_teste_coin\n",
    "problem = PacManProblem3(initial=maze.start_position, goal=maze.goal_position, maze_map=maze.maze_map)\n",
    "root = uniform_cost_search(problem)\n",
    "path = root.solution()\n",
    "\n",
    "maze.show_search_path()\n",
    "maze.show_search_path(reached=path)"
   ]
  },
  {
   "cell_type": "markdown",
   "metadata": {
    "colab_type": "text",
    "id": "3jSKyliC_HCu"
   },
   "source": [
    "Note that the two possible paths have the same cost, however in the maze without coins the agent goes through the top path, and when we place a coin in the maze it makes the agent choose the bottom path, because the it is rewarded with extras points."
   ]
  },
  {
   "cell_type": "markdown",
   "metadata": {
    "colab_type": "text",
    "id": "S6Y5SXqRBiWL"
   },
   "source": [
    "Now, let's consider a maze where the path containing coins is necessarily greater than the straight path, in this way we can assess whether the rewards are enough to deviate the agent from the shortest path to collect some coins."
   ]
  },
  {
   "cell_type": "markdown",
   "metadata": {
    "colab_type": "text",
    "id": "qYMIu3jiGz0V"
   },
   "source": [
    "### 2nd Model"
   ]
  },
  {
   "cell_type": "code",
   "execution_count": 6,
   "metadata": {
    "colab": {
     "base_uri": "https://localhost:8080/",
     "height": 479
    },
    "colab_type": "code",
    "id": "R_omtF5EGz0X",
    "outputId": "e76ef16a-b699-48aa-ea4f-35058a8dedbc"
   },
   "outputs": [
    {
     "data": {
      "image/png": "[encoded data removed]",
      "text/plain": [
       "<Figure size 432x288 with 1 Axes>"
      ]
     },
     "metadata": {
      "needs_background": "light"
     },
     "output_type": "display_data"
    },
    {
     "data": {
      "image/png": "[encoded data removed]",
      "text/plain": [
       "<Figure size 432x288 with 1 Axes>"
      ]
     },
     "metadata": {
      "needs_background": "light"
     },
     "output_type": "display_data"
    }
   ],
   "source": [
    "maze = generator.MAZE_6\n",
    "problem = PacManProblem2(initial=maze.start_position, goal=maze.goal_position, maze_map=maze.maze_map)\n",
    "root = uniform_cost_search(problem)\n",
    "path = root.solution()\n",
    "\n",
    "maze.show_search_path()\n",
    "maze.show_search_path(reached=path)"
   ]
  },
  {
   "cell_type": "markdown",
   "metadata": {
    "colab_type": "text",
    "id": "ZFwE-wEmGz0m"
   },
   "source": [
    "### 3th Model"
   ]
  },
  {
   "cell_type": "code",
   "execution_count": 44,
   "metadata": {
    "colab": {
     "base_uri": "https://localhost:8080/",
     "height": 479
    },
    "colab_type": "code",
    "id": "bwAhLEl7Gz0n",
    "outputId": "2c03861e-651c-4297-ca4f-c3a8fb2e51cb"
   },
   "outputs": [
    {
     "data": {
      "image/png": "[encoded data removed]",
      "text/plain": [
       "<Figure size 432x288 with 1 Axes>"
      ]
     },
     "metadata": {
      "needs_background": "light"
     },
     "output_type": "display_data"
    },
    {
     "data": {
      "image/png": "[encoded data removed]",
      "text/plain": [
       "<Figure size 432x288 with 1 Axes>"
      ]
     },
     "metadata": {
      "needs_background": "light"
     },
     "output_type": "display_data"
    }
   ],
   "source": [
    "maze = generator.MAZE_6\n",
    "problem = PacManProblem(initial=maze.start_position, goal=maze.goal_position, maze_map=maze.maze_map)\n",
    "root = uniform_cost_search(problem)\n",
    "path = root.solution()\n",
    "\n",
    "maze.show_search_path()\n",
    "maze.show_search_path(reached=path)"
   ]
  },
  {
   "cell_type": "markdown",
   "metadata": {
    "colab_type": "text",
    "id": "X-cmWO39Gz0x"
   },
   "source": [
    "### 4th Model"
   ]
  },
  {
   "cell_type": "code",
   "execution_count": 8,
   "metadata": {
    "colab": {
     "base_uri": "https://localhost:8080/",
     "height": 479
    },
    "colab_type": "code",
    "id": "YPfzgkcOGz0z",
    "outputId": "e576566f-ee80-44e8-f569-ff529048192a"
   },
   "outputs": [
    {
     "data": {
      "image/png": "[encoded data removed]",
      "text/plain": [
       "<Figure size 432x288 with 1 Axes>"
      ]
     },
     "metadata": {
      "needs_background": "light"
     },
     "output_type": "display_data"
    },
    {
     "data": {
      "image/png": "[encoded data removed]",
      "text/plain": [
       "<Figure size 432x288 with 1 Axes>"
      ]
     },
     "metadata": {
      "needs_background": "light"
     },
     "output_type": "display_data"
    }
   ],
   "source": [
    "maze = generator.MAZE_6\n",
    "problem = PacManProblem3(initial=maze.start_position, goal=maze.goal_position, maze_map=maze.maze_map)\n",
    "root = uniform_cost_search(problem)\n",
    "path = root.solution()\n",
    "\n",
    "maze.show_search_path()\n",
    "maze.show_search_path(reached=path)"
   ]
  },
  {
   "cell_type": "markdown",
   "metadata": {
    "colab_type": "text",
    "id": "kmVt35RtDhlJ"
   },
   "source": [
    "It can be seen that the 2nd model was not appropriate to collect the coins, it took the shortest path. On the other hand, the 3rd and 4th model had a good result collecting the possible coins. Note that the two coins in the bottom are not reachable, because it would require the agent return to a already visited position which in our modeling results in a repeated state."
   ]
  },
  {
   "cell_type": "markdown",
   "metadata": {
    "colab_type": "text",
    "id": "Km-gUzqKx6wH"
   },
   "source": [
    "### Worst Case"
   ]
  },
  {
   "cell_type": "markdown",
   "metadata": {
    "colab_type": "text",
    "id": "jMYV7qmMHn0j"
   },
   "source": [
    "In order to test the capability of the agent of capturing coins distant from the beginning in each modeling, we created a maze where there is only one coin and it is far away from the start position, but the target position is close to the start. We have this test for three different PacManProblem implementations"
   ]
  },
  {
   "cell_type": "code",
   "execution_count": 9,
   "metadata": {
    "colab": {
     "base_uri": "https://localhost:8080/",
     "height": 479
    },
    "colab_type": "code",
    "id": "qwoQKseeyOIO",
    "outputId": "d1fc93bd-f802-4fcc-a4fb-1a4f299d11b3"
   },
   "outputs": [
    {
     "data": {
      "image/png": "[encoded data removed]",
      "text/plain": [
       "<Figure size 432x288 with 1 Axes>"
      ]
     },
     "metadata": {
      "needs_background": "light"
     },
     "output_type": "display_data"
    },
    {
     "data": {
      "image/png": "[encoded data removed]",
      "text/plain": [
       "<Figure size 432x288 with 1 Axes>"
      ]
     },
     "metadata": {
      "needs_background": "light"
     },
     "output_type": "display_data"
    }
   ],
   "source": [
    "maze = generator.MAZE_10x10\n",
    "problem = PacManProblem3(initial=maze.start_position, goal=maze.goal_position, maze_map=maze.maze_map)\n",
    "root = uniform_cost_search(problem)\n",
    "path = root.solution()\n",
    "\n",
    "maze.show_search_path()\n",
    "maze.show_search_path(reached=path)"
   ]
  },
  {
   "cell_type": "code",
   "execution_count": 10,
   "metadata": {
    "colab": {},
    "colab_type": "code",
    "id": "g8o_7ab-KeIc"
   },
   "outputs": [
    {
     "data": {
      "image/png": "[encoded data removed]",
      "text/plain": [
       "<Figure size 432x288 with 1 Axes>"
      ]
     },
     "metadata": {
      "needs_background": "light"
     },
     "output_type": "display_data"
    },
    {
     "data": {
      "image/png": "[encoded data removed]",
      "text/plain": [
       "<Figure size 432x288 with 1 Axes>"
      ]
     },
     "metadata": {
      "needs_background": "light"
     },
     "output_type": "display_data"
    }
   ],
   "source": [
    "maze = generator.MAZE_10x10\n",
    "problem = PacManProblem2(initial=maze.start_position, goal=maze.goal_position, maze_map=maze.maze_map)\n",
    "root = uniform_cost_search(problem)\n",
    "path = root.solution()\n",
    "\n",
    "maze.show_search_path()\n",
    "maze.show_search_path(reached=path)"
   ]
  },
  {
   "cell_type": "code",
   "execution_count": 12,
   "metadata": {
    "colab": {},
    "colab_type": "code",
    "id": "zcEqSxTmKiPl"
   },
   "outputs": [
    {
     "data": {
      "image/png": "[encoded data removed]",
      "text/plain": [
       "<Figure size 432x288 with 1 Axes>"
      ]
     },
     "metadata": {
      "needs_background": "light"
     },
     "output_type": "display_data"
    },
    {
     "data": {
      "image/png": "[encoded data removed]",
      "text/plain": [
       "<Figure size 432x288 with 1 Axes>"
      ]
     },
     "metadata": {
      "needs_background": "light"
     },
     "output_type": "display_data"
    }
   ],
   "source": [
    "maze = generator.MAZE_10x10\n",
    "problem = PacManProblem(initial=maze.start_position, goal=maze.goal_position, maze_map=maze.maze_map)\n",
    "root = uniform_cost_search(problem)\n",
    "path = root.solution()\n",
    "\n",
    "maze.show_search_path()\n",
    "maze.show_search_path(reached=path)"
   ]
  },
  {
   "cell_type": "markdown",
   "metadata": {
    "colab_type": "text",
    "id": "NHrRd09nIY73"
   },
   "source": [
    "None of the models were capable of the reach the position with the coin, because the agent arrives in the target position before reach the coin. "
   ]
  },
  {
   "cell_type": "markdown",
   "metadata": {
    "colab_type": "text",
    "id": "u7ueB-Lvbtik"
   },
   "source": [
    "# **Iterative Deepening Search**"
   ]
  },
  {
   "cell_type": "markdown",
   "metadata": {
    "colab_type": "text",
    "id": "-xPIZcC_btil"
   },
   "source": [
    "This method combines the good side of two algorithmns, breadth first search and depth first search, so it is an algorithm with memory complexity of dfs (which is lower when compared to bfs complexity), but it is complete like bfs."
   ]
  },
  {
   "cell_type": "markdown",
   "metadata": {
    "colab_type": "text",
    "id": "e4GbCFaXgZWj"
   },
   "source": [
    "### Experiments\n"
   ]
  },
  {
   "cell_type": "markdown",
   "metadata": {
    "colab_type": "text",
    "id": "I8Me1CvFbtim"
   },
   "source": [
    "On these tests, we can see that this uninformed search method always finds the fastest path to the goal, regardless of the way the problem was modeled. It never optimizes the number of collected coins, once it does not inspect the cost function, and gets based only on the proximity of the goal"
   ]
  },
  {
   "cell_type": "markdown",
   "metadata": {
    "colab_type": "text",
    "id": "5vf7Z66Fbtin"
   },
   "source": [
    "The bigger maze in which we could run this algorithm was an 8x8, on mazes with size upper than that the search method did not provide a solution in a reasonable time"
   ]
  },
  {
   "cell_type": "code",
   "execution_count": 13,
   "metadata": {
    "colab": {},
    "colab_type": "code",
    "id": "5tlEBRGBbtio",
    "outputId": "8b9f49fb-5635-4856-bc27-d0db38c1c37d"
   },
   "outputs": [
    {
     "data": {
      "image/png": "[encoded data removed]",
      "text/plain": [
       "<Figure size 432x288 with 1 Axes>"
      ]
     },
     "metadata": {
      "needs_background": "light"
     },
     "output_type": "display_data"
    },
    {
     "data": {
      "image/png": "[encoded data removed]",
      "text/plain": [
       "<Figure size 432x288 with 1 Axes>"
      ]
     },
     "metadata": {
      "needs_background": "light"
     },
     "output_type": "display_data"
    }
   ],
   "source": [
    "maze = generator.MAZE_simple_coin\n",
    "\n",
    "pacman_problem = PacManProblem(maze.start_position, maze.goal_position, maze.maze_map)\n",
    "root = iterative_deepening_search(pacman_problem)\n",
    "path = root.solution()\n",
    "\n",
    "maze.show_search_path()\n",
    "maze.show_search_path(reached=path)"
   ]
  },
  {
   "cell_type": "code",
   "execution_count": 14,
   "metadata": {
    "colab": {},
    "colab_type": "code",
    "id": "ILJtAtZ7btis",
    "outputId": "5fd7f4db-b7b2-4ba8-97d4-93c5548b602a"
   },
   "outputs": [
    {
     "data": {
      "image/png": "[encoded data removed]",
      "text/plain": [
       "<Figure size 432x288 with 1 Axes>"
      ]
     },
     "metadata": {
      "needs_background": "light"
     },
     "output_type": "display_data"
    },
    {
     "data": {
      "image/png": "[encoded data removed]",
      "text/plain": [
       "<Figure size 432x288 with 1 Axes>"
      ]
     },
     "metadata": {
      "needs_background": "light"
     },
     "output_type": "display_data"
    }
   ],
   "source": [
    "maze = generator.MAZE_1\n",
    "\n",
    "pacman_problem = PacManProblem3(maze.start_position, maze.goal_position, maze.maze_map)\n",
    "root = iterative_deepening_search(pacman_problem)\n",
    "path = root.solution()\n",
    "\n",
    "maze.show_search_path()\n",
    "maze.show_search_path(reached=path)"
   ]
  },
  {
   "cell_type": "markdown",
   "metadata": {
    "colab_type": "text",
    "id": "YpvLDQ4Fbtiw"
   },
   "source": [
    "Next we can see the same maze being processed with three different cost functions for the problem, since the algorithm does not inspect the function, the result is always the same"
   ]
  },
  {
   "cell_type": "code",
   "execution_count": 15,
   "metadata": {
    "colab": {},
    "colab_type": "code",
    "id": "aQzqINmObtiw",
    "outputId": "0277a0d8-8e6c-43d8-cf42-b2e98387aaf3"
   },
   "outputs": [
    {
     "data": {
      "image/png": "[encoded data removed]",
      "text/plain": [
       "<Figure size 432x288 with 1 Axes>"
      ]
     },
     "metadata": {
      "needs_background": "light"
     },
     "output_type": "display_data"
    },
    {
     "data": {
      "image/png": "[encoded data removed]",
      "text/plain": [
       "<Figure size 432x288 with 1 Axes>"
      ]
     },
     "metadata": {
      "needs_background": "light"
     },
     "output_type": "display_data"
    }
   ],
   "source": [
    "maze = generator.MAZE_X\n",
    "\n",
    "pacman_problem = PacManProblem(maze.start_position, maze.goal_position, maze.maze_map)\n",
    "root = iterative_deepening_search(pacman_problem)\n",
    "path = root.solution()\n",
    "\n",
    "maze.show_search_path()\n",
    "maze.show_search_path(reached=path)"
   ]
  },
  {
   "cell_type": "code",
   "execution_count": 16,
   "metadata": {
    "colab": {},
    "colab_type": "code",
    "id": "6h5qn8f1bti0",
    "outputId": "9e5ba988-9304-4fc4-a1b7-b248f3102f0b"
   },
   "outputs": [
    {
     "data": {
      "image/png": "[encoded data removed]",
      "text/plain": [
       "<Figure size 432x288 with 1 Axes>"
      ]
     },
     "metadata": {
      "needs_background": "light"
     },
     "output_type": "display_data"
    },
    {
     "data": {
      "image/png": "[encoded data removed]",
      "text/plain": [
       "<Figure size 432x288 with 1 Axes>"
      ]
     },
     "metadata": {
      "needs_background": "light"
     },
     "output_type": "display_data"
    }
   ],
   "source": [
    "maze = generator.MAZE_X\n",
    "\n",
    "pacman_problem = PacManProblem2(maze.start_position, maze.goal_position, maze.maze_map)\n",
    "root = iterative_deepening_search(pacman_problem)\n",
    "path = root.solution()\n",
    "\n",
    "maze.show_search_path()\n",
    "maze.show_search_path(reached=path)"
   ]
  },
  {
   "cell_type": "code",
   "execution_count": 17,
   "metadata": {
    "colab": {},
    "colab_type": "code",
    "id": "blE8IOogbti4",
    "outputId": "4c2eaab5-763f-4694-8459-a0280e0a93a2"
   },
   "outputs": [
    {
     "data": {
      "image/png": "[encoded data removed]",
      "text/plain": [
       "<Figure size 432x288 with 1 Axes>"
      ]
     },
     "metadata": {
      "needs_background": "light"
     },
     "output_type": "display_data"
    },
    {
     "data": {
      "image/png": "[encoded data removed]",
      "text/plain": [
       "<Figure size 432x288 with 1 Axes>"
      ]
     },
     "metadata": {
      "needs_background": "light"
     },
     "output_type": "display_data"
    }
   ],
   "source": [
    "maze = generator.MAZE_X\n",
    "\n",
    "pacman_problem = PacManProblem3(maze.start_position, maze.goal_position, maze.maze_map)\n",
    "root = iterative_deepening_search(pacman_problem)\n",
    "path = root.solution()\n",
    "\n",
    "maze.show_search_path()\n",
    "maze.show_search_path(reached=path)"
   ]
  },
  {
   "cell_type": "markdown",
   "metadata": {
    "colab_type": "text",
    "id": "qgUvjnyuTzI1"
   },
   "source": [
    "# **A* Search**"
   ]
  },
  {
   "cell_type": "markdown",
   "metadata": {
    "colab_type": "text",
    "id": "iE1Gj-xsL838"
   },
   "source": [
    "In the experiments carried out with this search algorithm was only considered the 1st modeling, then the path cost g(n) is such that each move cost 1.\n",
    "\n",
    "Initially, we considered the heuristic as the manhattan distance, thus\n",
    "h(n) is the manhattan distance from the current state to the goal."
   ]
  },
  {
   "cell_type": "markdown",
   "metadata": {
    "colab_type": "text",
    "id": "MRBc9WNhNO82"
   },
   "source": [
    "**Consistency Prove**\n",
    "Let's prove that h(n) is a consistent heuristc.\n",
    "\n",
    "We know that the cost of going from one state to the next is always 1. Then, given the current state n, the cost of going to the next position is c(n, a, n+1) = 1.\n",
    "\n",
    "Now, there two possible cases: h(n) < h(n+1) or h(n) >= h(n+1).\n",
    "\n",
    "* If h(n) < h(n+1), then it is trivial that h(n) <= c(n, a, n+1)+h(n+1).\n",
    "\n",
    "* Note that for the case which h(n) >= h(n+1),  h(n)-h(n+1) <= 1. Because given the agent walked just one position the manhattan dist can reduce at most 1. \n",
    "Then, in the worst case we have h(n) = h(n+1)+1. But we already know that c(n, a, n+1) = 1, thus h(n) = c(n, a, n+1) + h(n+1).\n",
    "\n",
    "Therefore, we conclude that h(n) is a consistent heuristic.\n"
   ]
  },
  {
   "cell_type": "code",
   "execution_count": 18,
   "metadata": {
    "colab": {},
    "colab_type": "code",
    "id": "iggkDTQcTzI9"
   },
   "outputs": [
    {
     "data": {
      "image/png": "[encoded data removed]",
      "text/plain": [
       "<Figure size 432x288 with 1 Axes>"
      ]
     },
     "metadata": {
      "needs_background": "light"
     },
     "output_type": "display_data"
    },
    {
     "data": {
      "image/png": "[encoded data removed]",
      "text/plain": [
       "<Figure size 432x288 with 1 Axes>"
      ]
     },
     "metadata": {
      "needs_background": "light"
     },
     "output_type": "display_data"
    }
   ],
   "source": [
    "from pac_man.search import astar_search, uniform_cost_search\n",
    "from pac_man.pacman_problem_astar import PacManProblem\n",
    "from pac_man.maze_generator import generator\n",
    "from pac_man.utils import manhattan_distance\n",
    "from pac_man.maze_generator import state\n",
    "\n",
    "def h(node, goal, maze):    \n",
    "    return manhattan_distance(node.state, goal)\n",
    "\n",
    "maze = generator.MAZE_14\n",
    "problem = PacManProblem(initial=maze.start_position, goal=maze.goal_position, \n",
    "                        maze_map=maze.maze_map, heuristic=h)\n",
    "root = astar_search(problem)\n",
    "maze.show_search_path()\n",
    "maze.show_search_path(reached=root.solution())"
   ]
  },
  {
   "cell_type": "markdown",
   "metadata": {
    "colab_type": "text",
    "id": "3NUe2BbnUBKP"
   },
   "source": [
    "We can see that the agent found correctlt the shortest path, as expected."
   ]
  },
  {
   "cell_type": "markdown",
   "metadata": {
    "colab_type": "text",
    "id": "-vSowoEHTzJC"
   },
   "source": [
    "### Optimizing the path cost and going through coins\n",
    "\n",
    "In these heuristics it is set a lower weight to those paths in which there is a coin, so that when the agent has to choose between a free position and a position with a coin, the latter is more likely to be preferred. However when the agent has to choose among paths with coins, the selected is the one that leads to the least distance, once the it doesn't know whether afterwards there will be a coin or not, thus it is reasonable going through the shorter path. \n",
    "\n",
    "It is clear that these heuristics that try to collect some coins are not consistent, they do not optimize the path cost. For instance, if we consider the heuristic that rewards by 1 for each collected coin, then in the worst case, where manhattan_dist(n, goal) = manhattan_dist(n+1, goal)+1, with next position containing a coin and the current position does not, we have the relation:\n",
    "\n",
    " h(n) = manhattan_dist(n, goal) = manhattan_dist(n+1, goal) + 1\n",
    "\n",
    " h(n+1) = manhattan_dist(n+1, goal) - 1\n",
    "\n",
    " c(n, a, n+1) = 1\n",
    "\n",
    " then follows that h(n) > h(n+1) + c(n, a, n+1).\n",
    "\n",
    "Therefore, the heuristics considering this type of reward are not consistent. However, we consider as a good experiment testing them, to see the impact on the chosen path.\n",
    "\n",
    "We tested two different heuristics following this reasioning, both approaches consider as default case the manhattan distance, but the first one rewards the coin positions reducing by 1 the manhattan distance, and the second one reducing by 2.\n",
    "\n",
    "In the first case the rewards wasn't enough to deviate the path via the coins, but reducing by 2 seems good. Because of choosing the shorter path when all positions contain coins, in the second case the agent went down straight to the goal, instead of fist collecting more coins through the \"coin circuit\" and just then heading to the goal."
   ]
  },
  {
   "cell_type": "code",
   "execution_count": 42,
   "metadata": {
    "colab": {},
    "colab_type": "code",
    "id": "dJ1W0zAsTzJE"
   },
   "outputs": [
    {
     "data": {
      "image/png": "[encoded data removed]",
      "text/plain": [
       "<Figure size 432x288 with 1 Axes>"
      ]
     },
     "metadata": {
      "needs_background": "light"
     },
     "output_type": "display_data"
    },
    {
     "data": {
      "image/png": "[encoded data removed]",
      "text/plain": [
       "<Figure size 432x288 with 1 Axes>"
      ]
     },
     "metadata": {
      "needs_background": "light"
     },
     "output_type": "display_data"
    }
   ],
   "source": [
    "from pac_man.search import astar_search, uniform_cost_search\n",
    "from pac_man.pacman_problem_astar import PacManProblem\n",
    "from pac_man.maze_generator import generator\n",
    "from pac_man.utils import manhattan_distance\n",
    "from pac_man.maze_generator import state\n",
    "\n",
    "def h(node, goal, maze):\n",
    "    i, j = node.state\n",
    "    d = manhattan_distance(node.state, goal)\n",
    "    if maze[i][j] == state.COIN:        \n",
    "        return d-1\n",
    "    return d\n",
    "\n",
    "maze = generator.MAZE_14\n",
    "problem = PacManProblem(initial=maze.start_position, goal=maze.goal_position, \n",
    "                        maze_map=maze.maze_map, heuristic=h)\n",
    "root = astar_search(problem)\n",
    "maze.show_search_path()\n",
    "maze.show_search_path(reached=root.solution())"
   ]
  },
  {
   "cell_type": "code",
   "execution_count": 21,
   "metadata": {
    "colab": {},
    "colab_type": "code",
    "id": "yGfgasy0TzJJ"
   },
   "outputs": [
    {
     "data": {
      "image/png": "[encoded data removed]",
      "text/plain": [
       "<Figure size 432x288 with 1 Axes>"
      ]
     },
     "metadata": {
      "needs_background": "light"
     },
     "output_type": "display_data"
    },
    {
     "data": {
      "image/png": "[encoded data removed]",
      "text/plain": [
       "<Figure size 432x288 with 1 Axes>"
      ]
     },
     "metadata": {
      "needs_background": "light"
     },
     "output_type": "display_data"
    }
   ],
   "source": [
    "from pac_man.search import astar_search, uniform_cost_search\n",
    "from pac_man.pacman_problem_astar import PacManProblem\n",
    "from pac_man.maze_generator import generator\n",
    "from pac_man.utils import manhattan_distance\n",
    "from pac_man.maze_generator import state\n",
    "\n",
    "def h(node, goal, maze):\n",
    "    i, j = node.state\n",
    "    d = manhattan_distance(node.state, goal)\n",
    "    if maze[i][j] == state.COIN:        \n",
    "        return d-2\n",
    "    return d\n",
    "\n",
    "maze = generator.MAZE_14\n",
    "problem = PacManProblem(initial=maze.start_position, goal=maze.goal_position, \n",
    "                        maze_map=maze.maze_map, heuristic=h)\n",
    "root = astar_search(problem)\n",
    "maze.show_search_path()\n",
    "maze.show_search_path(reached=root.solution())"
   ]
  },
  {
   "cell_type": "markdown",
   "metadata": {
    "colab_type": "text",
    "id": "Mjzud0uRL1Uj"
   },
   "source": [
    "This simple maze ilustrates the effect of changing the heuristic, note that rewarding the coin positions, \n",
    "regardless of the reward, deviates the path even when two possible paths have the same length, but different cost."
   ]
  },
  {
   "cell_type": "code",
   "execution_count": 22,
   "metadata": {
    "colab": {},
    "colab_type": "code",
    "id": "vxh-oIuWTzJT",
    "outputId": "06b69676-5cc3-4daa-d1cb-6f5c82f26b5b"
   },
   "outputs": [
    {
     "data": {
      "image/png": "[encoded data removed]",
      "text/plain": [
       "<Figure size 432x288 with 1 Axes>"
      ]
     },
     "metadata": {
      "needs_background": "light"
     },
     "output_type": "display_data"
    },
    {
     "data": {
      "image/png": "[encoded data removed]",
      "text/plain": [
       "<Figure size 432x288 with 1 Axes>"
      ]
     },
     "metadata": {
      "needs_background": "light"
     },
     "output_type": "display_data"
    },
    {
     "data": {
      "image/png": "[encoded data removed]",
      "text/plain": [
       "<Figure size 432x288 with 1 Axes>"
      ]
     },
     "metadata": {
      "needs_background": "light"
     },
     "output_type": "display_data"
    },
    {
     "data": {
      "image/png": "[encoded data removed]",
      "text/plain": [
       "<Figure size 432x288 with 1 Axes>"
      ]
     },
     "metadata": {
      "needs_background": "light"
     },
     "output_type": "display_data"
    }
   ],
   "source": [
    "from pac_man.search import astar_search, uniform_cost_search\n",
    "from pac_man.pacman_problem_astar import PacManProblem\n",
    "from pac_man.maze_generator import generator\n",
    "from pac_man.utils import manhattan_distance\n",
    "from pac_man.maze_generator import state\n",
    "\n",
    "def h(node, goal, maze):    \n",
    "    return manhattan_distance(node.state, goal)\n",
    "\n",
    "def h_1(node, goal, maze):\n",
    "    i, j = node.state\n",
    "    d = manhattan_distance(node.state, goal)\n",
    "    if maze[i][j] == state.COIN:        \n",
    "        return d-1\n",
    "    return d\n",
    "\n",
    "def h_2(node, goal, maze):\n",
    "    i, j = node.state\n",
    "    d = manhattan_distance(node.state, goal)\n",
    "    if maze[i][j] == state.COIN:        \n",
    "        return d-2\n",
    "    return d\n",
    "\n",
    "maze = generator.MAZE_simple_coin\n",
    "problem = PacManProblem(initial=maze.start_position, goal=maze.goal_position, \n",
    "                        maze_map=maze.maze_map, heuristic=h)\n",
    "root = astar_search(problem)\n",
    "maze.show_search_path()\n",
    "maze.show_search_path(reached=root.solution())\n",
    "\n",
    "problem = PacManProblem(initial=maze.start_position, goal=maze.goal_position, \n",
    "                        maze_map=maze.maze_map, heuristic=h_1)\n",
    "root = astar_search(problem)\n",
    "maze.show_search_path(reached=root.solution())\n",
    "\n",
    "problem = PacManProblem(initial=maze.start_position, goal=maze.goal_position, \n",
    "                        maze_map=maze.maze_map, heuristic=h_2)\n",
    "root = astar_search(problem)\n",
    "maze.show_search_path(reached=root.solution())"
   ]
  },
  {
   "cell_type": "markdown",
   "metadata": {
    "colab_type": "text",
    "id": "RNL9UBhHVFiK"
   },
   "source": [
    "It is clear that when we consider only the manhattan distance, regardless of the position containing or not a coin, the agent doesn't differ the paths even if one is full of coins and the other doesn't  have any coins, both with same length. However, when we reward it as it collects the coins, it chooses the path with more coins since both have the same length."
   ]
  },
  {
   "cell_type": "code",
   "execution_count": 23,
   "metadata": {
    "colab": {},
    "colab_type": "code",
    "id": "O-bWxHNFTzJb",
    "outputId": "21a5e56b-e294-4ba3-d2de-382ffbacb215"
   },
   "outputs": [
    {
     "data": {
      "image/png": "[encoded data removed]",
      "text/plain": [
       "<Figure size 432x288 with 1 Axes>"
      ]
     },
     "metadata": {
      "needs_background": "light"
     },
     "output_type": "display_data"
    },
    {
     "data": {
      "image/png": "[encoded data removed]",
      "text/plain": [
       "<Figure size 432x288 with 1 Axes>"
      ]
     },
     "metadata": {
      "needs_background": "light"
     },
     "output_type": "display_data"
    },
    {
     "data": {
      "image/png": "[encoded data removed]",
      "text/plain": [
       "<Figure size 432x288 with 1 Axes>"
      ]
     },
     "metadata": {
      "needs_background": "light"
     },
     "output_type": "display_data"
    },
    {
     "data": {
      "image/png": "[encoded data removed]",
      "text/plain": [
       "<Figure size 432x288 with 1 Axes>"
      ]
     },
     "metadata": {
      "needs_background": "light"
     },
     "output_type": "display_data"
    }
   ],
   "source": [
    "from pac_man.search import astar_search, uniform_cost_search\n",
    "from pac_man.pacman_problem_astar import PacManProblem\n",
    "from pac_man.maze_generator import generator\n",
    "from pac_man.utils import manhattan_distance\n",
    "from pac_man.maze_generator import state\n",
    "\n",
    "def h(node, goal, maze):    \n",
    "    return manhattan_distance(node.state, goal)\n",
    "\n",
    "def h_1(node, goal, maze):\n",
    "    i, j = node.state\n",
    "    d = manhattan_distance(node.state, goal)\n",
    "    if maze[i][j] == state.COIN:        \n",
    "        return d-1\n",
    "    return d\n",
    "\n",
    "def h_2(node, goal, maze):\n",
    "    i, j = node.state\n",
    "    d = manhattan_distance(node.state, goal)\n",
    "    if maze[i][j] == state.COIN:        \n",
    "        return d-2\n",
    "    return d\n",
    "\n",
    "maze = generator.MAZE_3\n",
    "problem = PacManProblem(initial=maze.start_position, goal=maze.goal_position, \n",
    "                        maze_map=maze.maze_map, heuristic=h)\n",
    "root = astar_search(problem)\n",
    "maze.show_search_path()\n",
    "maze.show_search_path(reached=root.solution())\n",
    "\n",
    "problem = PacManProblem(initial=maze.start_position, goal=maze.goal_position, \n",
    "                        maze_map=maze.maze_map, heuristic=h_1)\n",
    "root = astar_search(problem)\n",
    "maze.show_search_path(reached=root.solution())\n",
    "\n",
    "problem = PacManProblem(initial=maze.start_position, goal=maze.goal_position, \n",
    "                        maze_map=maze.maze_map, heuristic=h_2)\n",
    "root = astar_search(problem)\n",
    "maze.show_search_path(reached=root.solution())"
   ]
  },
  {
   "cell_type": "markdown",
   "metadata": {
    "colab_type": "text",
    "id": "-_WPdMwmWGBi"
   },
   "source": [
    "In this experiment, we can see that rewaring by 1 point for each coin was not enough to change the path. But when we reward it by 2 for each coin, it catch one more coin, the one close to the target position."
   ]
  },
  {
   "cell_type": "markdown",
   "metadata": {
    "colab_type": "text",
    "id": "qIKZ-cMITzJg"
   },
   "source": [
    "However, there are cases which the heuristics don't have effect, such as the following one. It is because the reward is not enough, and if the agent had decided collect any coin more, it would have paied a much higher price."
   ]
  },
  {
   "cell_type": "code",
   "execution_count": 24,
   "metadata": {
    "colab": {},
    "colab_type": "code",
    "id": "VOX2iaxHTzJg",
    "outputId": "c00a84bc-a4c2-4454-d2fb-ba5ebe5018ad"
   },
   "outputs": [
    {
     "data": {
      "image/png": "[encoded data removed]",
      "text/plain": [
       "<Figure size 432x288 with 1 Axes>"
      ]
     },
     "metadata": {
      "needs_background": "light"
     },
     "output_type": "display_data"
    },
    {
     "data": {
      "image/png": "[encoded data removed]",
      "text/plain": [
       "<Figure size 432x288 with 1 Axes>"
      ]
     },
     "metadata": {
      "needs_background": "light"
     },
     "output_type": "display_data"
    },
    {
     "data": {
      "image/png": "[encoded data removed]",
      "text/plain": [
       "<Figure size 432x288 with 1 Axes>"
      ]
     },
     "metadata": {
      "needs_background": "light"
     },
     "output_type": "display_data"
    },
    {
     "data": {
      "image/png": "[encoded data removed]",
      "text/plain": [
       "<Figure size 432x288 with 1 Axes>"
      ]
     },
     "metadata": {
      "needs_background": "light"
     },
     "output_type": "display_data"
    }
   ],
   "source": [
    "from pac_man.search import astar_search, uniform_cost_search\n",
    "from pac_man.pacman_problem_astar import PacManProblem\n",
    "from pac_man.maze_generator import generator\n",
    "from pac_man.utils import manhattan_distance\n",
    "from pac_man.maze_generator import state\n",
    "\n",
    "def h(node, goal, maze):    \n",
    "    return manhattan_distance(node.state, goal)\n",
    "\n",
    "def h_1(node, goal, maze):\n",
    "    i, j = node.state\n",
    "    d = manhattan_distance(node.state, goal)\n",
    "    if maze[i][j] == state.COIN:        \n",
    "        return d-1\n",
    "    return d\n",
    "\n",
    "def h_2(node, goal, maze):\n",
    "    i, j = node.state\n",
    "    d = manhattan_distance(node.state, goal)\n",
    "    if maze[i][j] == state.COIN:        \n",
    "        return d-2\n",
    "    return d\n",
    "\n",
    "maze = generator.MAZE_5\n",
    "problem = PacManProblem(initial=maze.start_position, goal=maze.goal_position, \n",
    "                        maze_map=maze.maze_map, heuristic=h)\n",
    "root = astar_search(problem)\n",
    "maze.show_search_path()\n",
    "maze.show_search_path(reached=root.solution())\n",
    "\n",
    "problem = PacManProblem(initial=maze.start_position, goal=maze.goal_position, \n",
    "                        maze_map=maze.maze_map, heuristic=h_1)\n",
    "root = astar_search(problem)\n",
    "maze.show_search_path(reached=root.solution())\n",
    "\n",
    "problem = PacManProblem(initial=maze.start_position, goal=maze.goal_position, \n",
    "                        maze_map=maze.maze_map, heuristic=h_2)\n",
    "root = astar_search(problem)\n",
    "maze.show_search_path(reached=root.solution())"
   ]
  },
  {
   "cell_type": "markdown",
   "metadata": {
    "colab_type": "text",
    "id": "bQxHcSkSj1mX"
   },
   "source": [
    "## **Best First Search**"
   ]
  },
  {
   "cell_type": "markdown",
   "metadata": {
    "colab_type": "text",
    "id": "dLcnMIr_j1mY"
   },
   "source": [
    "Best first search is an informed (heuristic) search, that decides which path to transverse based on a greedy choice of which of the adjacent nodes is the most promising i.e., closest to the destination. To do so it makes use of a priotity queue with node distances. For this algorithm, alongside the a star algorithm, we make use of manhattan distance. "
   ]
  },
  {
   "cell_type": "markdown",
   "metadata": {
    "colab_type": "text",
    "id": "Oa-3CSa6j1mZ"
   },
   "source": [
    "Best first search algorithm with manhattan distance heuristic only, does not consider coin value, only fastest position to the end."
   ]
  },
  {
   "cell_type": "code",
   "execution_count": 25,
   "metadata": {
    "colab": {},
    "colab_type": "code",
    "id": "DJXWe4SSj1ma",
    "outputId": "37619509-fb74-4e67-989b-b5a137b76287"
   },
   "outputs": [
    {
     "data": {
      "image/png": "[encoded data removed]",
      "text/plain": [
       "<Figure size 432x288 with 1 Axes>"
      ]
     },
     "metadata": {
      "needs_background": "light"
     },
     "output_type": "display_data"
    },
    {
     "data": {
      "image/png": "[encoded data removed]",
      "text/plain": [
       "<Figure size 432x288 with 1 Axes>"
      ]
     },
     "metadata": {
      "needs_background": "light"
     },
     "output_type": "display_data"
    }
   ],
   "source": [
    "from pac_man.search import best_first_graph_search, uniform_cost_search\n",
    "from pac_man.pacman_problem import PacManProblem\n",
    "from pac_man.maze_generator import generator\n",
    "from pac_man.utils import manhattan_distance\n",
    "from pac_man.maze_generator import state\n",
    "\n",
    "def h(node, goal, maze):    \n",
    "    return manhattan_distance(node.state, goal)\n",
    "\n",
    "maze = generator.MAZE_14\n",
    "\n",
    "problem = PacManProblem(initial=maze.start_position, goal=maze.goal_position, \n",
    "                        maze_map=maze.maze_map)\n",
    "\n",
    "heuristic = lambda node, goal=maze.goal_position, maze=maze.maze_map : h(node, goal, maze)  \n",
    "\n",
    "root = best_first_graph_search(problem,heuristic)\n",
    "maze.show_search_path()\n",
    "maze.show_search_path(reached=root.solution())"
   ]
  },
  {
   "cell_type": "markdown",
   "metadata": {
    "colab_type": "text",
    "id": "IVHl5Wjlj1mg"
   },
   "source": [
    "Best first search, unlike a star, is not an optimal algorithm, and path from start to finish might not be as great as a star. Both however are quite similiar, with the main difference being the evaluation function to decide shortest path, a star makes use of f(n) = g(n) + h(n), while bfs in the greedy form makes use of f(n) = h(n), where h(n) is the heuristic function and g(n) is the distance from the start position to the adjacent positions. However a star does make more use of memory than greedy bfs as a counter exchange."
   ]
  },
  {
   "cell_type": "markdown",
   "metadata": {
    "colab_type": "text",
    "id": "97ITl4W7j1mh"
   },
   "source": [
    "Modifying the heuristic to consider coin weights instead of simply distances changes the outcome behaviour to collect the coins and minimize distance. The outcome is the same as a star algorithm. Note: the chosen heuristic will still attempt to minimize distance over coin collection, the inverse is not valid."
   ]
  },
  {
   "cell_type": "code",
   "execution_count": 26,
   "metadata": {
    "colab": {},
    "colab_type": "code",
    "id": "EZAv36qWj1mh",
    "outputId": "d4629f48-a6cc-4f52-892f-8d46615f2593"
   },
   "outputs": [
    {
     "data": {
      "image/png": "[encoded data removed]",
      "text/plain": [
       "<Figure size 432x288 with 1 Axes>"
      ]
     },
     "metadata": {
      "needs_background": "light"
     },
     "output_type": "display_data"
    },
    {
     "data": {
      "image/png": "[encoded data removed]",
      "text/plain": [
       "<Figure size 432x288 with 1 Axes>"
      ]
     },
     "metadata": {
      "needs_background": "light"
     },
     "output_type": "display_data"
    }
   ],
   "source": [
    "from pac_man.search import best_first_graph_search, uniform_cost_search\n",
    "from pac_man.pacman_problem import PacManProblem\n",
    "from pac_man.maze_generator import generator\n",
    "from pac_man.utils import manhattan_distance\n",
    "from pac_man.maze_generator import state\n",
    "\n",
    "def h(node, goal, maze):\n",
    "    i, j = node.state\n",
    "    d = manhattan_distance(node.state, goal)\n",
    "    if maze[i][j] == state.COIN:        \n",
    "        return d-2\n",
    "    return d\n",
    "\n",
    "maze = generator.MAZE_14\n",
    "problem = PacManProblem(initial=maze.start_position, goal=maze.goal_position, \n",
    "                        maze_map=maze.maze_map)\n",
    "\n",
    "heuristic = lambda node, goal=maze.goal_position, maze=maze.maze_map : h(node, goal, maze)\n",
    "\n",
    "root = best_first_graph_search(problem,heuristic)\n",
    "maze.show_search_path()\n",
    "maze.show_search_path(reached=root.solution())"
   ]
  },
  {
   "cell_type": "markdown",
   "metadata": {
    "colab_type": "text",
    "id": "tyMHElG-j1ml"
   },
   "source": [
    "Below is the comparison of 3 heuristics, one considering simply positions, and the other two consider coin cost. Note than when coin cost is taken into account, the algorithm will deviate the path to maximize coin collection."
   ]
  },
  {
   "cell_type": "code",
   "execution_count": 27,
   "metadata": {
    "colab": {},
    "colab_type": "code",
    "id": "282Qg4Hlj1mm",
    "outputId": "45005cc7-f9b0-4bd9-bc63-0db741d47136"
   },
   "outputs": [
    {
     "data": {
      "image/png": "[encoded data removed]",
      "text/plain": [
       "<Figure size 432x288 with 1 Axes>"
      ]
     },
     "metadata": {
      "needs_background": "light"
     },
     "output_type": "display_data"
    },
    {
     "data": {
      "image/png": "[encoded data removed]",
      "text/plain": [
       "<Figure size 432x288 with 1 Axes>"
      ]
     },
     "metadata": {
      "needs_background": "light"
     },
     "output_type": "display_data"
    },
    {
     "data": {
      "image/png": "[encoded data removed]",
      "text/plain": [
       "<Figure size 432x288 with 1 Axes>"
      ]
     },
     "metadata": {
      "needs_background": "light"
     },
     "output_type": "display_data"
    },
    {
     "data": {
      "image/png": "[encoded data removed]",
      "text/plain": [
       "<Figure size 432x288 with 1 Axes>"
      ]
     },
     "metadata": {
      "needs_background": "light"
     },
     "output_type": "display_data"
    }
   ],
   "source": [
    "from pac_man.search import best_first_graph_search, uniform_cost_search\n",
    "from pac_man.pacman_problem import PacManProblem\n",
    "from pac_man.maze_generator import generator\n",
    "from pac_man.utils import manhattan_distance\n",
    "from pac_man.maze_generator import state\n",
    "\n",
    "def h(node, goal, maze):    \n",
    "    return manhattan_distance(node.state, goal)\n",
    "\n",
    "def h_1(node, goal, maze):\n",
    "    i, j = node.state\n",
    "    d = manhattan_distance(node.state, goal)\n",
    "    if maze[i][j] == state.COIN:        \n",
    "        return d-1\n",
    "    return d\n",
    "\n",
    "def h_2(node, goal, maze):\n",
    "    i, j = node.state\n",
    "    d = manhattan_distance(node.state, goal)\n",
    "    if maze[i][j] == state.COIN:        \n",
    "        return d-2\n",
    "    return d\n",
    "\n",
    "maze = generator.MAZE_simple_coin\n",
    "problem = PacManProblem(initial=maze.start_position, goal=maze.goal_position, \n",
    "                        maze_map=maze.maze_map)\n",
    "heuristic = lambda node, goal=maze.goal_position, maze=maze.maze_map : h(node, goal, maze)\n",
    "root = best_first_graph_search(problem,heuristic)\n",
    "maze.show_search_path()\n",
    "maze.show_search_path(reached=root.solution())\n",
    "\n",
    "problem = PacManProblem(initial=maze.start_position, goal=maze.goal_position, \n",
    "                        maze_map=maze.maze_map)\n",
    "heuristic = lambda node, goal=maze.goal_position, maze=maze.maze_map : h_1(node, goal, maze)\n",
    "root = best_first_graph_search(problem,heuristic)\n",
    "maze.show_search_path(reached=root.solution())\n",
    "\n",
    "problem = PacManProblem(initial=maze.start_position, goal=maze.goal_position, \n",
    "                        maze_map=maze.maze_map)\n",
    "heuristic = lambda node, goal=maze.goal_position, maze=maze.maze_map : h_2(node, goal, maze)\n",
    "root = best_first_graph_search(problem,heuristic)\n",
    "maze.show_search_path(reached=root.solution())"
   ]
  },
  {
   "cell_type": "markdown",
   "metadata": {
    "colab_type": "text",
    "id": "u3l8lfBtj1ms"
   },
   "source": [
    "Below is the same comparison as above, however in a larger maze. The main difference from greedy bfs to a star is that a star found a more optimal path from start to finish no matter which heuristic. And also, the optimal solution found in a star, was also the same with coin collection consideration, while greedy bfs had a to perform a minor deviation to collect coin and possess same path outcome."
   ]
  },
  {
   "cell_type": "code",
   "execution_count": 28,
   "metadata": {
    "colab": {},
    "colab_type": "code",
    "id": "CiqZFwioj1mw",
    "outputId": "de14cb53-655c-49d5-8e92-50cbfed5680d"
   },
   "outputs": [
    {
     "data": {
      "image/png": "[encoded data removed]",
      "text/plain": [
       "<Figure size 432x288 with 1 Axes>"
      ]
     },
     "metadata": {
      "needs_background": "light"
     },
     "output_type": "display_data"
    },
    {
     "data": {
      "image/png": "[encoded data removed]",
      "text/plain": [
       "<Figure size 432x288 with 1 Axes>"
      ]
     },
     "metadata": {
      "needs_background": "light"
     },
     "output_type": "display_data"
    },
    {
     "data": {
      "image/png": "[encoded data removed]",
      "text/plain": [
       "<Figure size 432x288 with 1 Axes>"
      ]
     },
     "metadata": {
      "needs_background": "light"
     },
     "output_type": "display_data"
    },
    {
     "data": {
      "image/png": "[encoded data removed]",
      "text/plain": [
       "<Figure size 432x288 with 1 Axes>"
      ]
     },
     "metadata": {
      "needs_background": "light"
     },
     "output_type": "display_data"
    }
   ],
   "source": [
    "from pac_man.search import best_first_graph_search, uniform_cost_search\n",
    "from pac_man.pacman_problem import PacManProblem\n",
    "from pac_man.maze_generator import generator\n",
    "from pac_man.utils import manhattan_distance\n",
    "from pac_man.maze_generator import state\n",
    "\n",
    "def h(node, goal, maze):    \n",
    "    return manhattan_distance(node.state, goal)\n",
    "\n",
    "def h_1(node, goal, maze):\n",
    "    i, j = node.state\n",
    "    d = manhattan_distance(node.state, goal)\n",
    "    if maze[i][j] == state.COIN:        \n",
    "        return d-1\n",
    "    return d\n",
    "\n",
    "def h_2(node, goal, maze):\n",
    "    i, j = node.state\n",
    "    d = manhattan_distance(node.state, goal)\n",
    "    if maze[i][j] == state.COIN:        \n",
    "        return d-2\n",
    "    return d\n",
    "\n",
    "maze = generator.MAZE_3\n",
    "problem = PacManProblem(initial=maze.start_position, goal=maze.goal_position, \n",
    "                        maze_map=maze.maze_map)\n",
    "heuristic = lambda node, goal=maze.goal_position, maze=maze.maze_map : h(node, goal, maze)\n",
    "root = best_first_graph_search(problem,heuristic)\n",
    "maze.show_search_path()\n",
    "maze.show_search_path(reached=root.solution())\n",
    "\n",
    "problem = PacManProblem(initial=maze.start_position, goal=maze.goal_position, \n",
    "                        maze_map=maze.maze_map)\n",
    "heuristic = lambda node, goal=maze.goal_position, maze=maze.maze_map : h_1(node, goal, maze)\n",
    "root = best_first_graph_search(problem,heuristic)\n",
    "maze.show_search_path(reached=root.solution())\n",
    "\n",
    "problem = PacManProblem(initial=maze.start_position, goal=maze.goal_position, \n",
    "                        maze_map=maze.maze_map)\n",
    "heuristic = lambda node, goal=maze.goal_position, maze=maze.maze_map : h_2(node, goal, maze)\n",
    "root = best_first_graph_search(problem,heuristic)\n",
    "maze.show_search_path(reached=root.solution())"
   ]
  },
  {
   "cell_type": "markdown",
   "metadata": {
    "colab_type": "text",
    "id": "AbT_UmBzj1m0"
   },
   "source": [
    "At last, in this example, no matter the heuristic, a star and greedy bfs did not perform a change in their path. The only difference amongst them is that a star found the optimal path, while greedy bfs found a path."
   ]
  },
  {
   "cell_type": "code",
   "execution_count": 29,
   "metadata": {
    "colab": {},
    "colab_type": "code",
    "id": "WLXbcGicj1m1",
    "outputId": "3aa37d9f-1a44-4d11-86e4-3d6e6227cc89"
   },
   "outputs": [
    {
     "data": {
      "image/png": "[encoded data removed]",
      "text/plain": [
       "<Figure size 432x288 with 1 Axes>"
      ]
     },
     "metadata": {
      "needs_background": "light"
     },
     "output_type": "display_data"
    },
    {
     "data": {
      "image/png": "[encoded data removed]",
      "text/plain": [
       "<Figure size 432x288 with 1 Axes>"
      ]
     },
     "metadata": {
      "needs_background": "light"
     },
     "output_type": "display_data"
    },
    {
     "data": {
      "image/png": "[encoded data removed]",
      "text/plain": [
       "<Figure size 432x288 with 1 Axes>"
      ]
     },
     "metadata": {
      "needs_background": "light"
     },
     "output_type": "display_data"
    },
    {
     "data": {
      "image/png": "[encoded data removed]",
      "text/plain": [
       "<Figure size 432x288 with 1 Axes>"
      ]
     },
     "metadata": {
      "needs_background": "light"
     },
     "output_type": "display_data"
    }
   ],
   "source": [
    "from pac_man.search import best_first_graph_search, uniform_cost_search\n",
    "from pac_man.pacman_problem import PacManProblem\n",
    "from pac_man.maze_generator import generator\n",
    "from pac_man.utils import manhattan_distance\n",
    "from pac_man.maze_generator import state\n",
    "\n",
    "def h(node, goal, maze):    \n",
    "    return manhattan_distance(node.state, goal)\n",
    "\n",
    "def h_1(node, goal, maze):\n",
    "    i, j = node.state\n",
    "    d = manhattan_distance(node.state, goal)\n",
    "    if maze[i][j] == state.COIN:        \n",
    "        return d-1\n",
    "    return d\n",
    "\n",
    "def h_2(node, goal, maze):\n",
    "    i, j = node.state\n",
    "    d = manhattan_distance(node.state, goal)\n",
    "    if maze[i][j] == state.COIN:        \n",
    "        return d-2\n",
    "    return d\n",
    "\n",
    "maze = generator.MAZE_5\n",
    "problem = PacManProblem(initial=maze.start_position, goal=maze.goal_position, \n",
    "                        maze_map=maze.maze_map)\n",
    "heuristic = lambda node, goal=maze.goal_position, maze=maze.maze_map : h(node, goal, maze)\n",
    "root = best_first_graph_search(problem,heuristic)\n",
    "maze.show_search_path()\n",
    "maze.show_search_path(reached=root.solution())\n",
    "\n",
    "problem = PacManProblem(initial=maze.start_position, goal=maze.goal_position, \n",
    "                        maze_map=maze.maze_map)\n",
    "heuristic = lambda node, goal=maze.goal_position, maze=maze.maze_map : h_1(node, goal, maze)\n",
    "root = best_first_graph_search(problem,heuristic)\n",
    "maze.show_search_path(reached=root.solution())\n",
    "\n",
    "problem = PacManProblem(initial=maze.start_position, goal=maze.goal_position, \n",
    "                        maze_map=maze.maze_map)\n",
    "heuristic = lambda node, goal=maze.goal_position, maze=maze.maze_map : h_2(node, goal, maze)\n",
    "root = best_first_graph_search(problem,heuristic)\n",
    "maze.show_search_path(reached=root.solution())"
   ]
  },
  {
   "cell_type": "markdown",
   "metadata": {
    "colab_type": "text",
    "id": "85TKJNG7__GT"
   },
   "source": [
    "### **Heuristic Definition**"
   ]
  },
  {
   "cell_type": "markdown",
   "metadata": {
    "colab_type": "text",
    "id": "nk9uAVhAAptl"
   },
   "source": [
    "In all the informed and local search algorithms, we are using some heuristics in the problem modeling. They are defined below:\n",
    "\n",
    "**h (manhattan distance)**: We just consider the manhattan distance between the currently node and goal, regardless of coins\n",
    "\n",
    "```\n",
    "def h(node, goal, maze):    \n",
    "   return manhattan_distance(node.state, goal)\n",
    "```\n",
    "\n",
    "**h_1 (first variation of manhattan distance)**: We increase the coin optimization, reducing the cost by one\n",
    "\n",
    "```\n",
    "def h_1(node, goal, maze):\n",
    "   i, j = node.state\n",
    "   d = manhattan_distance(node.state, goal)\n",
    "   if maze[i][j] == state.COIN:        \n",
    "      return d-1\n",
    "   return d\n",
    "```\n",
    "\n",
    "**h_3 (second variation of manhattan distance)**: We increase more the coin optimzation, reducing the cost by two\n",
    "\n",
    "```\n",
    "def h_3(node, goal, maze):\n",
    "    i, j = node.state\n",
    "    d = manhattan_distance(node.state, goal)\n",
    "    if maze[i][j] == state.COIN:        \n",
    "        return d-2\n",
    "    return d\n",
    "```\n",
    "\n"
   ]
  },
  {
   "cell_type": "markdown",
   "metadata": {
    "colab_type": "text",
    "id": "JB6gsNkPEmTv"
   },
   "source": [
    "### **Heuristics**"
   ]
  },
  {
   "cell_type": "markdown",
   "metadata": {
    "colab_type": "text",
    "id": "iiulePG8Eh2x"
   },
   "source": [
    "--- | Iterative Deepening | Uniform Cost | Best First | A* | Hill Climbing\n",
    "--- | --- | --- | --- | --- | ---\n",
    "Algorithm Type | Uninformed | Uninformed | Informed | Informed | Local\n",
    "Max maze dimension  | 8x8 | 42x42 | 42x42 | 42x42 | 42x42\n",
    "Heuristic | --- | --- | h, h1 and h2 | h, h1 and h2 | h"
   ]
  },
  {
   "cell_type": "markdown",
   "metadata": {},
   "source": [
    "## Hill Climbing"
   ]
  },
  {
   "cell_type": "markdown",
   "metadata": {},
   "source": [
    "Hill Climbing algorithm is a local search method that acts upon only the immediate neighbors of the current state. The most important feature of our maze and problem modelling for this algorithm is therefore the `value` of the current state and its neighbors.\n",
    "\n",
    "At first we attempted a simple modelling:\n",
    "\n",
    "* Coins always value 2\n",
    "* Free nodes always value 1\n",
    "* The Goal Node values +infinity\n",
    "* Ghosts and walls value -infinity\n",
    "* Coins \"eaten\" do not get thrown out\n",
    "* Repeating states are allowed\n",
    "\n",
    "This solution worked for a few cases but it easily trigerred infinite loops where the agent kept running in a path of coins without ever leaving it. \n",
    "\n",
    "Our final approach solved those errors by resorting to different techniques:\n",
    "\n",
    "1. In the agent:\n",
    "    * Since the position of the goal state is known before hand,\n",
    "      the value of every node actually gets divided by their\n",
    "      manhattan distance of the goal\n",
    "      \n",
    "    * If a node is a coin and it gets eaten, it no longer counts as coin\n",
    "    \n",
    "    * Repetition of the same node is allowed but penalized. Everytime a node\n",
    "      is visited, it loses 1 point in value\n",
    "      \n",
    "2. In the maze:\n",
    "    * Nodes that are deadends, that is which only neighbor is the node the\n",
    "      agent was before getting to it are visited only once and ignored\n",
    "      for the rest of the problem"
   ]
  },
  {
   "cell_type": "code",
   "execution_count": 34,
   "metadata": {},
   "outputs": [],
   "source": [
    "from pac_man.search import hill_climbing\n",
    "from pac_man.utils import manhattan_distance\n",
    "from pac_man.pacman_problem_astar import PacManProblem\n",
    "from pac_man.maze_generator.generator import *\n",
    "\n",
    "def h(node, goal, maze):\n",
    "    return manhattan_distance(node, goal)\n",
    "\n",
    "\n",
    "def solve_hill(maze, draw=False, heuristic=h):\n",
    "    pacman_problem = PacManProblem(\n",
    "        maze.start_position, maze.goal_position, maze.maze_map, heuristic=h\n",
    "    )\n",
    "    root = hill_climbing(pacman_problem)\n",
    "    path = root[1]\n",
    "    \n",
    "    if draw:\n",
    "        maze.show_search_path(reached=path)\n",
    "    "
   ]
  },
  {
   "cell_type": "code",
   "execution_count": 35,
   "metadata": {},
   "outputs": [
    {
     "data": {
      "image/png": "[encoded data removed]",
      "text/plain": [
       "<Figure size 432x288 with 1 Axes>"
      ]
     },
     "metadata": {
      "needs_background": "light"
     },
     "output_type": "display_data"
    },
    {
     "data": {
      "image/png": "[encoded data removed]",
      "text/plain": [
       "<Figure size 432x288 with 1 Axes>"
      ]
     },
     "metadata": {
      "needs_background": "light"
     },
     "output_type": "display_data"
    }
   ],
   "source": [
    "maze = MAZE_simple_coin\n",
    "\n",
    "MAZE_7x7.show_search_path()\n",
    "solve_hill(MAZE_7x7, draw=True)"
   ]
  },
  {
   "cell_type": "code",
   "execution_count": 38,
   "metadata": {},
   "outputs": [
    {
     "data": {
      "image/png": "[encoded data removed]",
      "text/plain": [
       "<Figure size 432x288 with 1 Axes>"
      ]
     },
     "metadata": {
      "needs_background": "light"
     },
     "output_type": "display_data"
    },
    {
     "data": {
      "image/png": "[encoded data removed]",
      "text/plain": [
       "<Figure size 432x288 with 1 Axes>"
      ]
     },
     "metadata": {
      "needs_background": "light"
     },
     "output_type": "display_data"
    },
    {
     "data": {
      "image/png": "[encoded data removed]",
      "text/plain": [
       "<Figure size 432x288 with 1 Axes>"
      ]
     },
     "metadata": {
      "needs_background": "light"
     },
     "output_type": "display_data"
    },
    {
     "data": {
      "image/png": "[encoded data removed]",
      "text/plain": [
       "<Figure size 432x288 with 1 Axes>"
      ]
     },
     "metadata": {
      "needs_background": "light"
     },
     "output_type": "display_data"
    },
    {
     "data": {
      "image/png": "[encoded data removed]",
      "text/plain": [
       "<Figure size 432x288 with 1 Axes>"
      ]
     },
     "metadata": {
      "needs_background": "light"
     },
     "output_type": "display_data"
    },
    {
     "data": {
      "image/png": "[encoded data removed]",
      "text/plain": [
       "<Figure size 432x288 with 1 Axes>"
      ]
     },
     "metadata": {
      "needs_background": "light"
     },
     "output_type": "display_data"
    },
    {
     "data": {
      "image/png": "[encoded data removed]",
      "text/plain": [
       "<Figure size 432x288 with 1 Axes>"
      ]
     },
     "metadata": {
      "needs_background": "light"
     },
     "output_type": "display_data"
    },
    {
     "data": {
      "image/png": "[encoded data removed]",
      "text/plain": [
       "<Figure size 432x288 with 1 Axes>"
      ]
     },
     "metadata": {
      "needs_background": "light"
     },
     "output_type": "display_data"
    },
    {
     "data": {
      "image/png": "[encoded data removed]",
      "text/plain": [
       "<Figure size 432x288 with 1 Axes>"
      ]
     },
     "metadata": {
      "needs_background": "light"
     },
     "output_type": "display_data"
    },
    {
     "data": {
      "image/png": "[encoded data removed]",
      "text/plain": [
       "<Figure size 432x288 with 1 Axes>"
      ]
     },
     "metadata": {
      "needs_background": "light"
     },
     "output_type": "display_data"
    },
    {
     "data": {
      "image/png": "[encoded data removed]",
      "text/plain": [
       "<Figure size 432x288 with 1 Axes>"
      ]
     },
     "metadata": {
      "needs_background": "light"
     },
     "output_type": "display_data"
    },
    {
     "data": {
      "image/png": "[encoded data removed]",
      "text/plain": [
       "<Figure size 432x288 with 1 Axes>"
      ]
     },
     "metadata": {
      "needs_background": "light"
     },
     "output_type": "display_data"
    },
    {
     "data": {
      "image/png": "[encoded data removed]",
      "text/plain": [
       "<Figure size 432x288 with 1 Axes>"
      ]
     },
     "metadata": {
      "needs_background": "light"
     },
     "output_type": "display_data"
    },
    {
     "data": {
      "image/png": "[encoded data removed]",
      "text/plain": [
       "<Figure size 432x288 with 1 Axes>"
      ]
     },
     "metadata": {
      "needs_background": "light"
     },
     "output_type": "display_data"
    },
    {
     "data": {
      "image/png": "[encoded data removed]",
      "text/plain": [
       "<Figure size 432x288 with 1 Axes>"
      ]
     },
     "metadata": {
      "needs_background": "light"
     },
     "output_type": "display_data"
    },
    {
     "data": {
      "image/png": "[encoded data removed]",
      "text/plain": [
       "<Figure size 432x288 with 1 Axes>"
      ]
     },
     "metadata": {
      "needs_background": "light"
     },
     "output_type": "display_data"
    },
    {
     "data": {
      "image/png": "[encoded data removed]",
      "text/plain": [
       "<Figure size 432x288 with 1 Axes>"
      ]
     },
     "metadata": {
      "needs_background": "light"
     },
     "output_type": "display_data"
    },
    {
     "data": {
      "image/png": "[encoded data removed]",
      "text/plain": [
       "<Figure size 432x288 with 1 Axes>"
      ]
     },
     "metadata": {
      "needs_background": "light"
     },
     "output_type": "display_data"
    }
   ],
   "source": [
    "mazes = [\n",
    "    MAZE_6x6,\n",
    "    MAZE_7x7,\n",
    "    MAZE_8x8,\n",
    "    MAZE_9x9,\n",
    "    MAZE_10x10,\n",
    "    MAZE_11x11,\n",
    "    MAZE_14x14,\n",
    "    MAZE_21x21,\n",
    "    MAZE_42x42,\n",
    "]\n",
    "\n",
    "\n",
    "for maze in mazes:\n",
    "    maze.show_search_path()\n",
    "    solve_hill(maze, draw=True)\n"
   ]
  },
  {
   "cell_type": "markdown",
   "metadata": {
    "colab_type": "text",
    "id": "vpdB2cPrqBIn"
   },
   "source": [
    "# **Time comparison between the algorithms**"
   ]
  },
  {
   "cell_type": "markdown",
   "metadata": {
    "colab_type": "text",
    "id": "B2GgzeNo2l-j"
   },
   "source": [
    "In this section we compare the performance between those five algorithms we chose to study, to make this we created a few mazes with the following sizes `(6x6, 7x7, 8x8, 9x9, 10x10, 11x11, 14x14, 21x21, 42x42)` and ran each algorithm in each maze with the same modeling for the Problem, trying to get the fastest path to achieve the goal."
   ]
  },
  {
   "cell_type": "code",
   "execution_count": 30,
   "metadata": {
    "colab": {},
    "colab_type": "code",
    "id": "Sxe827Uj_3Bn"
   },
   "outputs": [],
   "source": [
    "running_time = {'A Star':[], 'Iterative Deepening':[], 'Uniform Cost Search':[], 'Best First Graph Search':[], 'Hill Climbing':[]}\n",
    "#Running time in seconds\n",
    "#Maze 6x6\n",
    "running_time['A Star'].append(0.0007104873657226562)\n",
    "running_time['Iterative Deepening'].append(0.0011591911315917969)\n",
    "running_time['Uniform Cost Search'].append(0.0003838539123535156)\n",
    "running_time['Best First Graph Search'].append(0.0007507801055908203)\n",
    "running_time['Hill Climbing'].append(0.00022531871974933892)\n",
    "\n",
    "#Maze 7x7\n",
    "running_time['A Star'].append(0.0011768341064453125)\n",
    "running_time['Iterative Deepening'].append(0.1646897792816162)\n",
    "running_time['Uniform Cost Search'].append(0.00042819976806640625)\n",
    "running_time['Best First Graph Search'].append(0.00070953369140625)\n",
    "running_time['Hill Climbing'].append(0.00048109283990925176)\n",
    "\n",
    "#Maze 8x8\n",
    "running_time['A Star'].append(0.0021042823791503906)\n",
    "running_time['Iterative Deepening'].append(0.14400005340576172)\n",
    "running_time['Uniform Cost Search'].append(0.0008845329284667969)\n",
    "running_time['Best First Graph Search'].append(0.0008950233459472656)\n",
    "running_time['Hill Climbing'].append(0.0008475602199905553)\n",
    "\n",
    "#Maze 9x9\n",
    "running_time['A Star'].append(0.002640247344970703)\n",
    "running_time['Uniform Cost Search'].append(0.0007863044738769531)\n",
    "running_time['Best First Graph Search'].append(0.001131296157836914)\n",
    "running_time['Hill Climbing'].append(0.0008367409004131331)\n",
    "\n",
    "#Maze 10x10\n",
    "running_time['A Star'].append(0.00879669189453125)\n",
    "running_time['Uniform Cost Search'].append(0.0014567375183105469)\n",
    "running_time['Best First Graph Search'].append(0.002456188201904297)\n",
    "running_time['Hill Climbing'].append(0.0012667248403886334)\n",
    "\n",
    "#Maze 11x11\n",
    "running_time['A Star'].append(0.004162311553955078)\n",
    "running_time['Uniform Cost Search'].append(0.0014829635620117188)\n",
    "running_time['Best First Graph Search'].append(0.001596212387084961)\n",
    "running_time['Hill Climbing'].append(0.0009911108695087024)\n",
    "\n",
    "#Maze 14x14\n",
    "running_time['A Star'].append(0.039469242095947266)\n",
    "running_time['Uniform Cost Search'].append(0.0037696361541748047)\n",
    "running_time['Best First Graph Search'].append(0.004131793975830078)\n",
    "running_time['Hill Climbing'].append(0.002608965449908283)\n",
    "\n",
    "#Maze 21x21\n",
    "running_time['A Star'].append(0.006997346878051758)\n",
    "running_time['Uniform Cost Search'].append(0.015733718872070312)\n",
    "running_time['Best First Graph Search'].append(0.0033960342407226562)\n",
    "running_time['Hill Climbing'].append(0.002199435359216295)\n",
    "\n",
    "#Maze 42x42\n",
    "running_time['A Star'].append(0.042211055755615234)\n",
    "running_time['Uniform Cost Search'].append(0.03821563720703125)\n",
    "running_time['Best First Graph Search'].append(0.024885892868041992)\n",
    "running_time['Hill Climbing'].append(0.01932271988975117)"
   ]
  },
  {
   "cell_type": "code",
   "execution_count": 31,
   "metadata": {
    "colab": {
     "base_uri": "https://localhost:8080/",
     "height": 301
    },
    "colab_type": "code",
    "id": "MNJyIiMOBcRo",
    "outputId": "e3af99b7-26eb-498c-b824-af5e84963cff"
   },
   "outputs": [
    {
     "data": {
      "text/plain": [
       "Text(0, 0.5, 'Running time (ms)')"
      ]
     },
     "execution_count": 31,
     "metadata": {},
     "output_type": "execute_result"
    },
    {
     "data": {
      "image/png": "[encoded data removed]",
      "text/plain": [
       "<Figure size 432x288 with 1 Axes>"
      ]
     },
     "metadata": {
      "needs_background": "light"
     },
     "output_type": "display_data"
    }
   ],
   "source": [
    "import matplotlib.pyplot as plt\n",
    "\n",
    "def plot_graphs(running_time):\n",
    "  x = [6,7,8,9,10,11,14,21,42]\n",
    "  for k, v in running_time.items():\n",
    "    x_aux = x[:len(v)]\n",
    "    for i in range(len(v)):\n",
    "        v[i] *= 1000\n",
    "\n",
    "    plt.plot(x_aux, v, label=k)\n",
    "\n",
    "plot_graphs(running_time)\n",
    "plt.legend()\n",
    "plt.xlabel('Maze side size', fontsize=16)\n",
    "plt.ylabel('Running time (ms)', fontsize=16)"
   ]
  },
  {
   "cell_type": "markdown",
   "metadata": {
    "colab_type": "text",
    "id": "Q_a17IhmtFAT"
   },
   "source": [
    "As we can see, the iterative deepening search method has a very bad performance compared to the other algorithms, to investigate this, we've tryied running both the algorithms breadth first search and depth first search on the mazes, and we got much faster results. So we've concluded that, since the iterative deepening method is based on an combination between bfs and dfs, with the memory complexity of dfs (that uses less memory than bfs), the reason why it is running so slow is because it has to compute the states multiple times due to its characteristic that simulates a bfs using an dfs.\n",
    "\n",
    "Finally, besides this outlier, all the other algorithmns had similar time performances when running all the mazes we've created. So to solve this problem, we would certainly choose the algorithmn A*, because since time wasn't a problem, this algorithmn is complete and always provide the optmal solution for the problem modeled."
   ]
  },
  {
   "cell_type": "markdown",
   "metadata": {
    "colab_type": "text",
    "id": "FtuCUuZxOCji"
   },
   "source": [
    "# **Work Organization**\n",
    "\n",
    "**Obs**: Each member worked with one search algorithm and realised experiments with different metrics, mazes and cost functions.\n",
    "\n",
    "*   **Gabriel Oliveira dos Santos:** PacmanProblem base modeling, A* Search testing and final report participation (running time report, explanatory texts and heuristic consistence report)\n",
    "*   **Flávio Reginato**: Iterative Deepening Search testing and final report participation (running time report, comparison between algorithms and conclusion report)\n",
    "*   **Matheus Esteves Zanoto**: Maze generator, Uniform Cost Search testing and final report participation (running time report, heuristic definition and usage/table for comparison)\n",
    "*   **Lucas Galante**: Best First Search testing\n",
    "*   **Felipe V. \"Bidu\" Rodrigues**: Hill Climbing Search testing and video organization/creation"
   ]
  }
 ],
 "metadata": {
  "colab": {
   "collapsed_sections": [
    "Pz_Bl1lfxDWJ",
    "OLdeh9EnTFuV",
    "MxIvWpx3Vbu4",
    "TCdNhXpcu_ES"
   ],
   "name": "relatorio.ipynb",
   "provenance": [],
   "toc_visible": true
  },
  "kernelspec": {
   "display_name": "Python 3",
   "language": "python",
   "name": "python3"
  },
  "language_info": {
   "codemirror_mode": {
    "name": "ipython",
    "version": 3
   },
   "file_extension": ".py",
   "mimetype": "text/x-python",
   "name": "python",
   "nbconvert_exporter": "python",
   "pygments_lexer": "ipython3",
   "version": "3.7.6"
  }
 },
 "nbformat": 4,
 "nbformat_minor": 1
}
