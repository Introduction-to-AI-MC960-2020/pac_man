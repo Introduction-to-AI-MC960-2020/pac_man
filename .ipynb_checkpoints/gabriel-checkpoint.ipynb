{
 "cells": [
  {
   "cell_type": "markdown",
   "metadata": {},
   "source": [
    "# A* Search"
   ]
  },
  {
   "cell_type": "code",
   "execution_count": null,
   "metadata": {},
   "outputs": [],
   "source": [
    "#Initial Modeling\n",
    "\n",
    "path cost g(n): each move cost 1\n",
    "heuristic h(n): the manhattan distance from the current state to the goal"
   ]
  },
  {
   "cell_type": "code",
   "execution_count": null,
   "metadata": {},
   "outputs": [],
   "source": [
    "from pac_man.search import astar_search, uniform_cost_search\n",
    "from pac_man.pacman_problem_astar import PacManProblem\n",
    "from pac_man.maze_generator import generator\n",
    "from pac_man.utils import manhattan_distance\n",
    "from pac_man.maze_generator import state\n",
    "\n",
    "def h(node, goal, maze):    \n",
    "    return manhattan_distance(node.state, goal)\n",
    "\n",
    "maze = generator.MAZE_14\n",
    "problem = PacManProblem(initial=maze.start_position, goal=maze.goal_position, \n",
    "                        maze_map=maze.maze_map, heuristic=h)\n",
    "root = astar_search(problem)\n",
    "maze.show_search_path()\n",
    "maze.show_search_path(reached=root.solution())"
   ]
  },
  {
   "cell_type": "markdown",
   "metadata": {},
   "source": [
    "# Optimizing the path cost and going through coins\n",
    "\n",
    "In this modeling is set a lower weight to those paths in which there is a coin, so that when the agent has to choose between a free position and a position with a coin, the latter is more likely to be preferred. However when the agent has to choose among paths with coins, the selected is the one that leads to the least distance, once the it doesn't know whether afterwards there will be a coin or not, thus it is reasonable going through the shorter path. \n",
    "\n",
    "We tested two different heuristics following this reasioning, both approaches consider as default case the manhattan distance, but the first one rewards the coin positions reducing by 1 the manhattan distance, and the second one reducing by 2.\n",
    "\n",
    "In the first case the rewards wasn't enough to deviate the path via the coins, but reducing by 2 seems good. Because of choosing the shorter path when all positions contain coins, in the second case the agent went down straight to the goal, instead of fist collecting more coins through the \"coin circuit\" and just then heading to the goal."
   ]
  },
  {
   "cell_type": "code",
   "execution_count": null,
   "metadata": {},
   "outputs": [],
   "source": [
    "from pac_man.search import astar_search, uniform_cost_search\n",
    "from pac_man.pacman_problem_astar import PacManProblem\n",
    "from pac_man.maze_generator import generator\n",
    "from pac_man.utils import manhattan_distance\n",
    "from pac_man.maze_generator import state\n",
    "\n",
    "def h(node, goal, maze):\n",
    "    i, j = node.state\n",
    "    d = manhattan_distance(node.state, goal)\n",
    "    if maze[i][j] == state.COIN:        \n",
    "        return d-1\n",
    "    return d\n",
    "\n",
    "maze = generator.MAZE_14\n",
    "problem = PacManProblem(initial=maze.start_position, goal=maze.goal_position, \n",
    "                        maze_map=maze.maze_map, heuristic=h)\n",
    "root = astar_search(problem)\n",
    "maze.show_search_path()\n",
    "maze.show_search_path(reached=root.solution())"
   ]
  },
  {
   "cell_type": "code",
   "execution_count": null,
   "metadata": {},
   "outputs": [],
   "source": [
    "from pac_man.search import astar_search, uniform_cost_search\n",
    "from pac_man.pacman_problem_astar import PacManProblem\n",
    "from pac_man.maze_generator import generator\n",
    "from pac_man.utils import manhattan_distance\n",
    "from pac_man.maze_generator import state\n",
    "\n",
    "def h(node, goal, maze):\n",
    "    i, j = node.state\n",
    "    d = manhattan_distance(node.state, goal)\n",
    "    if maze[i][j] == state.COIN:        \n",
    "        return d-2\n",
    "    return d\n",
    "\n",
    "maze = generator.MAZE_14\n",
    "problem = PacManProblem(initial=maze.start_position, goal=maze.goal_position, \n",
    "                        maze_map=maze.maze_map, heuristic=h)\n",
    "root = astar_search(problem)\n",
    "maze.show_search_path()\n",
    "maze.show_search_path(reached=root.solution())"
   ]
  },
  {
   "cell_type": "code",
   "execution_count": null,
   "metadata": {},
   "outputs": [],
   "source": [
    "Considering a this simple maze"
   ]
  },
  {
   "cell_type": "code",
   "execution_count": 2,
   "metadata": {},
   "outputs": [
    {
     "data": {
      "image/png": "[encoded data removed]",
      "text/plain": [
       "<Figure size 432x288 with 1 Axes>"
      ]
     },
     "metadata": {
      "needs_background": "light"
     },
     "output_type": "display_data"
    },
    {
     "data": {
      "image/png": "[encoded data removed]",
      "text/plain": [
       "<Figure size 432x288 with 1 Axes>"
      ]
     },
     "metadata": {
      "needs_background": "light"
     },
     "output_type": "display_data"
    },
    {
     "data": {
      "image/png": "[encoded data removed]",
      "text/plain": [
       "<Figure size 432x288 with 1 Axes>"
      ]
     },
     "metadata": {
      "needs_background": "light"
     },
     "output_type": "display_data"
    },
    {
     "data": {
      "image/png": "[encoded data removed]",
      "text/plain": [
       "<Figure size 432x288 with 1 Axes>"
      ]
     },
     "metadata": {
      "needs_background": "light"
     },
     "output_type": "display_data"
    }
   ],
   "source": [
    "from pac_man.search import astar_search, uniform_cost_search\n",
    "from pac_man.pacman_problem_astar import PacManProblem\n",
    "from pac_man.maze_generator import generator\n",
    "from pac_man.utils import manhattan_distance\n",
    "from pac_man.maze_generator import state\n",
    "\n",
    "def h(node, goal, maze):    \n",
    "    return manhattan_distance(node.state, goal)\n",
    "\n",
    "def h_1(node, goal, maze):\n",
    "    i, j = node.state\n",
    "    d = manhattan_distance(node.state, goal)\n",
    "    if maze[i][j] == state.COIN:        \n",
    "        return d-1\n",
    "    return d\n",
    "\n",
    "def h_2(node, goal, maze):\n",
    "    i, j = node.state\n",
    "    d = manhattan_distance(node.state, goal)\n",
    "    if maze[i][j] == state.COIN:        \n",
    "        return d-2\n",
    "    return d\n",
    "\n",
    "maze = generator.MAZE_simple_coin\n",
    "problem = PacManProblem(initial=maze.start_position, goal=maze.goal_position, \n",
    "                        maze_map=maze.maze_map, heuristic=h)\n",
    "root = astar_search(problem)\n",
    "maze.show_search_path()\n",
    "maze.show_search_path(reached=root.solution())\n",
    "\n",
    "problem = PacManProblem(initial=maze.start_position, goal=maze.goal_position, \n",
    "                        maze_map=maze.maze_map, heuristic=h_1)\n",
    "root = astar_search(problem)\n",
    "maze.show_search_path(reached=root.solution())\n",
    "\n",
    "problem = PacManProblem(initial=maze.start_position, goal=maze.goal_position, \n",
    "                        maze_map=maze.maze_map, heuristic=h_2)\n",
    "root = astar_search(problem)\n",
    "maze.show_search_path(reached=root.solution())"
   ]
  }
 ],
 "metadata": {
  "kernelspec": {
   "display_name": "Python 3",
   "language": "python",
   "name": "python3"
  },
  "language_info": {
   "codemirror_mode": {
    "name": "ipython",
    "version": 3
   },
   "file_extension": ".py",
   "mimetype": "text/x-python",
   "name": "python",
   "nbconvert_exporter": "python",
   "pygments_lexer": "ipython3",
   "version": "3.5.2"
  }
 },
 "nbformat": 4,
 "nbformat_minor": 2
}
