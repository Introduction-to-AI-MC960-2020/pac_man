{
 "cells": [
  {
   "cell_type": "markdown",
   "metadata": {},
   "source": [
    "# Análise do Pac Man\n"
   ]
  },
  {
   "cell_type": "code",
   "execution_count": 10,
   "metadata": {},
   "outputs": [],
   "source": [
    "from pac_man.pacman_problem import PacManProblem\n",
    "from maze_generator import generator"
   ]
  },
  {
   "cell_type": "code",
   "execution_count": 31,
   "metadata": {},
   "outputs": [],
   "source": [
    "maze = generator.MAZE_2"
   ]
  },
  {
   "cell_type": "code",
   "execution_count": 32,
   "metadata": {},
   "outputs": [
    {
     "data": {
      "text/plain": [
       "[[1, 1, 1, 1, 1, 1, 1, 1, 1, 1, 1, 1, 1, 1],\n",
       " [1, 0, 1, 1, 4, 4, 4, 4, 0, 0, 5, 0, 0, 1],\n",
       " [1, 0, 1, 1, 1, 1, 0, 1, 1, 0, 0, 0, 0, 1],\n",
       " [1, 0, 0, 1, 5, 0, 0, 0, 1, 0, 1, 1, 0, 1],\n",
       " [1, 1, 0, 1, 0, 0, 0, 1, 1, 4, 4, 1, 0, 1],\n",
       " [1, 1, 4, 4, 4, 1, 0, 0, 1, 4, 1, 1, 1, 1],\n",
       " [1, 1, 4, 1, 0, 1, 4, 1, 1, 4, 1, 0, 4, 1],\n",
       " [1, 1, 4, 4, 0, 1, 0, 0, 1, 0, 0, 0, 4, 1],\n",
       " [1, 1, 0, 1, 0, 1, 4, 1, 1, 0, 1, 1, 0, 1],\n",
       " [1, 1, 1, 1, 0, 1, 4, 0, 0, 0, 0, 1, 0, 1],\n",
       " [1, 0, 0, 0, 0, 1, 4, 1, 1, 1, 1, 1, 0, 1],\n",
       " [1, 1, 1, 1, 0, 1, 0, 1, 3, 5, 0, 0, 0, 1],\n",
       " [1, 2, 0, 0, 0, 1, 0, 1, 0, 0, 0, 1, 0, 1],\n",
       " [1, 1, 1, 1, 1, 1, 1, 1, 1, 1, 1, 1, 1, 1]]"
      ]
     },
     "execution_count": 32,
     "metadata": {},
     "output_type": "execute_result"
    }
   ],
   "source": [
    "maze.maze_map"
   ]
  },
  {
   "cell_type": "code",
   "execution_count": 33,
   "metadata": {},
   "outputs": [
    {
     "data": {
      "image/png": "[encoded data removed]",
      "text/plain": [
       "<Figure size 432x288 with 1 Axes>"
      ]
     },
     "metadata": {
      "needs_background": "light"
     },
     "output_type": "display_data"
    }
   ],
   "source": [
    "maze.show_search_path([(12,1),(12,2),(12,3),(12,4),(11,4),(10,4),(9,4),(8,4),(7,4),(7,3),(7,2),(6,2),(5,2),(5,3),(5,4),(4,4),(4,5),(3,5),(3,6),(2,6),(1,6),(1,7),(1,8),(1,9),(2,9),(3,9),(4,9),(5,9),(6,9),(7,9),(7,10),(7,11),(7,12),(8,12),(9,12),(10,12),(11,12),(11,11),(11,10),(12,10),(12,9),(12,8),(11,8)])"
   ]
  },
  {
   "cell_type": "code",
   "execution_count": 34,
   "metadata": {},
   "outputs": [],
   "source": [
    "pacman = PacManProblem(maze.start_position, maze.goal_position, maze.maze_map)"
   ]
  }
 ],
 "metadata": {
  "kernelspec": {
   "display_name": "Python 3",
   "language": "python",
   "name": "python3"
  },
  "language_info": {
   "codemirror_mode": {
    "name": "ipython",
    "version": 3
   },
   "file_extension": ".py",
   "mimetype": "text/x-python",
   "name": "python",
   "nbconvert_exporter": "python",
   "pygments_lexer": "ipython3",
   "version": "3.7.3"
  },
  "toc": {
   "base_numbering": 1,
   "nav_menu": {},
   "number_sections": true,
   "sideBar": true,
   "skip_h1_title": false,
   "title_cell": "Table of Contents",
   "title_sidebar": "Contents",
   "toc_cell": false,
   "toc_position": {},
   "toc_section_display": true,
   "toc_window_display": false
  }
 },
 "nbformat": 4,
 "nbformat_minor": 2
}
