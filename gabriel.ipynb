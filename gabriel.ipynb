{
 "cells": [
  {
   "cell_type": "code",
   "execution_count": null,
   "metadata": {},
   "outputs": [],
   "source": [
    "from pac_man.search import breadth_first_tree_search\n",
    "from pac_man.pacman_problem import PacManProblem\n",
    "from pac_man.maze_generator import generator\n",
    "\n",
    "maze = generator.MAZE_2\n",
    "problem = PacManProblem(initial=maze.start_position, goal=maze.goal_position, maze_map=maze.maze_map)\n",
    "root = breadth_first_tree_search(problem)\n",
    "path = [node.state for node in root.path()]\n",
    "\n",
    "maze.show_search_path()\n",
    "maze.show_search_path(reached=path)"
   ]
  }
 ],
 "metadata": {
  "kernelspec": {
   "display_name": "Python 3",
   "language": "python",
   "name": "python3"
  },
  "language_info": {
   "codemirror_mode": {
    "name": "ipython",
    "version": 3
   },
   "file_extension": ".py",
   "mimetype": "text/x-python",
   "name": "python",
   "nbconvert_exporter": "python",
   "pygments_lexer": "ipython3",
   "version": "3.5.2"
  }
 },
 "nbformat": 4,
 "nbformat_minor": 2
}
