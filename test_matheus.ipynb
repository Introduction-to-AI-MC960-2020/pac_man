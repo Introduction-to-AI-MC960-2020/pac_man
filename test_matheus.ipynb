{
  "nbformat": 4,
  "nbformat_minor": 0,
  "metadata": {
    "colab": {
      "name": "test-matheus.ipynb",
      "provenance": [],
      "collapsed_sections": [],
      "toc_visible": true
    },
    "kernelspec": {
      "name": "python3",
      "display_name": "Python 3"
    }
  },
  "cells": [
    {
      "cell_type": "markdown",
      "metadata": {
        "id": "z6nY1SdgSNrP",
        "colab_type": "text"
      },
      "source": [
        "# **Required Imports**"
      ]
    },
    {
      "cell_type": "code",
      "metadata": {
        "id": "fH3wwkrYSMEY",
        "colab_type": "code",
        "colab": {}
      },
      "source": [
        "from pac_man.search import uniform_cost_search\n",
        "from pac_man.pacman_problem import PacManProblem\n",
        "from pac_man.pacman_problem_2 import PacManProblem2\n",
        "from pac_man.pacman_problem_3 import PacManProblem3\n",
        "from pac_man.maze_generator import generator"
      ],
      "execution_count": 0,
      "outputs": []
    },
    {
      "cell_type": "markdown",
      "metadata": {
        "id": "BALZaLkFtmHA",
        "colab_type": "text"
      },
      "source": [
        "# **Problems Implementation**\n",
        "\n",
        "For all the tests below, we have three types of PacProblem implementation.  \n",
        "\n",
        "*   One of them (the first one) is the problem where the coin reduces the cost by two and the free path increses by one\n",
        "*   The second is the problem where the coin reduces the cost just by one and the free path increses by one\n",
        "*   The third one is the problem where the coin is more important than free path so it reduces the cost of the solution, regardless of\n",
        "how much long is the path\n",
        "\n",
        "We are going to do comparisons between these three kinds of metrics envolving the Uniform Cost Search Algorithm"
      ]
    },
    {
      "cell_type": "markdown",
      "metadata": {
        "id": "Z6Px8kJaRnnp",
        "colab_type": "text"
      },
      "source": [
        "# **Testing Uniform Cost Search with MAZE_1 and PacManProblem1**"
      ]
    },
    {
      "cell_type": "markdown",
      "metadata": {
        "id": "KMAjeT4rYARB",
        "colab_type": "text"
      },
      "source": [
        "*In this test with MAZE_1 we always have the same result path independently the weight assumed by each state (free path and coin), because there is a restricted path to archieve the final goal*"
      ]
    },
    {
      "cell_type": "code",
      "metadata": {
        "id": "pHeZ21_CQJ0p",
        "colab_type": "code",
        "outputId": "3b1e4c17-4166-4a27-e6df-e3aa2039c964",
        "colab": {
          "base_uri": "https://localhost:8080/",
          "height": 479
        }
      },
      "source": [
        "maze = generator.MAZE_1\n",
        "problem = PacManProblem(initial=maze.start_position, goal=maze.goal_position, maze_map=maze.maze_map)\n",
        "root = uniform_cost_search(problem)\n",
        "path = root.solution()\n",
        "\n",
        "maze.show_search_path()\n",
        "maze.show_search_path(reached=path)"
      ],
      "execution_count": 5,
      "outputs": [
        {
          "output_type": "display_data",
          "data": {
            "image/png": "[encoded data removed]",
            "text/plain": [
              "<Figure size 432x288 with 1 Axes>"
            ]
          },
          "metadata": {
            "tags": [],
            "needs_background": "light"
          }
        },
        {
          "output_type": "display_data",
          "data": {
            "image/png": "[encoded data removed]",
            "text/plain": [
              "<Figure size 432x288 with 1 Axes>"
            ]
          },
          "metadata": {
            "tags": [],
            "needs_background": "light"
          }
        }
      ]
    },
    {
      "cell_type": "markdown",
      "metadata": {
        "id": "OLdeh9EnTFuV",
        "colab_type": "text"
      },
      "source": [
        "# **Testing Uniform Cost Search with MAZE_teste and PacManProblem1**"
      ]
    },
    {
      "cell_type": "markdown",
      "metadata": {
        "id": "se0M7ndKZNM7",
        "colab_type": "text"
      },
      "source": [
        "In this test with MAZE_teste we have to choose between two possible paths to archive the optimal solution, because there isn't any coin in the maze so we just have to pass in the minimal path (turn left or move on)"
      ]
    },
    {
      "cell_type": "code",
      "metadata": {
        "id": "3Q-L3Ip6TLan",
        "colab_type": "code",
        "colab": {
          "base_uri": "https://localhost:8080/",
          "height": 479
        },
        "outputId": "618e377f-52db-4220-e88f-e910b84caaab"
      },
      "source": [
        "maze = generator.MAZE_teste\n",
        "problem = PacManProblem(initial=maze.start_position, goal=maze.goal_position, maze_map=maze.maze_map)\n",
        "root = uniform_cost_search(problem)\n",
        "path = root.solution()\n",
        "\n",
        "maze.show_search_path()\n",
        "maze.show_search_path(reached=path)"
      ],
      "execution_count": 2,
      "outputs": [
        {
          "output_type": "display_data",
          "data": {
            "image/png": "[encoded data removed]",
            "text/plain": [
              "<Figure size 432x288 with 1 Axes>"
            ]
          },
          "metadata": {
            "tags": [],
            "needs_background": "light"
          }
        },
        {
          "output_type": "display_data",
          "data": {
            "image/png": "[encoded data removed]",
            "text/plain": [
              "<Figure size 432x288 with 1 Axes>"
            ]
          },
          "metadata": {
            "tags": [],
            "needs_background": "light"
          }
        }
      ]
    },
    {
      "cell_type": "markdown",
      "metadata": {
        "id": "MxIvWpx3Vbu4",
        "colab_type": "text"
      },
      "source": [
        "# **Testing Uniform Cost Search with MAZE_teste_coin and PacManProblem1**"
      ]
    },
    {
      "cell_type": "markdown",
      "metadata": {
        "id": "Gw_HEygtaRdg",
        "colab_type": "text"
      },
      "source": [
        "In this test with MAZE_teste_coin we have two possible minimal path to archieve the goal from the initial state, but we have to choose the path with the coin to reduce the cost and archieve the optimal solution"
      ]
    },
    {
      "cell_type": "code",
      "metadata": {
        "id": "IdTZ9DvsVeUs",
        "colab_type": "code",
        "colab": {
          "base_uri": "https://localhost:8080/",
          "height": 479
        },
        "outputId": "fd87d9a0-1273-4524-cbfe-e5d6e06e7438"
      },
      "source": [
        "maze = generator.MAZE_teste_coin\n",
        "problem = PacManProblem(initial=maze.start_position, goal=maze.goal_position, maze_map=maze.maze_map)\n",
        "root = uniform_cost_search(problem)\n",
        "path = root.solution()\n",
        "\n",
        "maze.show_search_path()\n",
        "maze.show_search_path(reached=path)"
      ],
      "execution_count": 3,
      "outputs": [
        {
          "output_type": "display_data",
          "data": {
            "image/png": "[encoded data removed]",
            "text/plain": [
              "<Figure size 432x288 with 1 Axes>"
            ]
          },
          "metadata": {
            "tags": [],
            "needs_background": "light"
          }
        },
        {
          "output_type": "display_data",
          "data": {
            "image/png": "[encoded data removed]",
            "text/plain": [
              "<Figure size 432x288 with 1 Axes>"
            ]
          },
          "metadata": {
            "tags": [],
            "needs_background": "light"
          }
        }
      ]
    },
    {
      "cell_type": "markdown",
      "metadata": {
        "id": "TCdNhXpcu_ES",
        "colab_type": "text"
      },
      "source": [
        "# **Testing Uniform Cost Search with MAZE_teste_coin and PacManProblem2**"
      ]
    },
    {
      "cell_type": "code",
      "metadata": {
        "id": "hL6r0EU8vCT5",
        "colab_type": "code",
        "colab": {
          "base_uri": "https://localhost:8080/",
          "height": 479
        },
        "outputId": "79787662-9b21-467c-8c52-c172070c18ff"
      },
      "source": [
        "maze = generator.MAZE_teste_coin\n",
        "problem = PacManProblem2(initial=maze.start_position, goal=maze.goal_position, maze_map=maze.maze_map)\n",
        "root = uniform_cost_search(problem)\n",
        "path = root.solution()\n",
        "\n",
        "maze.show_search_path()\n",
        "maze.show_search_path(reached=path)"
      ],
      "execution_count": 3,
      "outputs": [
        {
          "output_type": "display_data",
          "data": {
            "image/png": "[encoded data removed]",
            "text/plain": [
              "<Figure size 432x288 with 1 Axes>"
            ]
          },
          "metadata": {
            "tags": [],
            "needs_background": "light"
          }
        },
        {
          "output_type": "display_data",
          "data": {
            "image/png": "[encoded data removed]",
            "text/plain": [
              "<Figure size 432x288 with 1 Axes>"
            ]
          },
          "metadata": {
            "tags": [],
            "needs_background": "light"
          }
        }
      ]
    },
    {
      "cell_type": "markdown",
      "metadata": {
        "id": "qB6uzVZr3AlX",
        "colab_type": "text"
      },
      "source": [
        "# **Testing Uniform Cost Search with MAZE_teste_coin and PacManProblem3**"
      ]
    },
    {
      "cell_type": "code",
      "metadata": {
        "id": "nneG5w0p3gWs",
        "colab_type": "code",
        "colab": {
          "base_uri": "https://localhost:8080/",
          "height": 479
        },
        "outputId": "7480f9cb-8a31-4e5c-d9ba-4bb7548b0122"
      },
      "source": [
        "maze = generator.MAZE_teste_coin\n",
        "problem = PacManProblem3(initial=maze.start_position, goal=maze.goal_position, maze_map=maze.maze_map)\n",
        "root = uniform_cost_search(problem)\n",
        "path = root.solution()\n",
        "\n",
        "maze.show_search_path()\n",
        "maze.show_search_path(reached=path)"
      ],
      "execution_count": 3,
      "outputs": [
        {
          "output_type": "display_data",
          "data": {
            "image/png": "[encoded data removed]",
            "text/plain": [
              "<Figure size 432x288 with 1 Axes>"
            ]
          },
          "metadata": {
            "tags": [],
            "needs_background": "light"
          }
        },
        {
          "output_type": "display_data",
          "data": {
            "image/png": "[encoded data removed]",
            "text/plain": [
              "<Figure size 432x288 with 1 Axes>"
            ]
          },
          "metadata": {
            "tags": [],
            "needs_background": "light"
          }
        }
      ]
    },
    {
      "cell_type": "markdown",
      "metadata": {
        "id": "00X_9cnhkLjW",
        "colab_type": "text"
      },
      "source": [
        "# **Testing Uniform Cost Search with MAZE_teste_coin_2 and PacManProblem1**"
      ]
    },
    {
      "cell_type": "markdown",
      "metadata": {
        "id": "DvtOttCok72V",
        "colab_type": "text"
      },
      "source": [
        "In this test with MAZE_teste_coin_2 we don't assume the solution with the coin because the path would be so longer than the first one mininal that the final cost would be greater, even with the coin. So in this case, the optimal solution is the mininal path without the coin"
      ]
    },
    {
      "cell_type": "code",
      "metadata": {
        "id": "-ngQBqN6kPJb",
        "colab_type": "code",
        "colab": {
          "base_uri": "https://localhost:8080/",
          "height": 479
        },
        "outputId": "10deccc7-fb3f-4d1b-8802-dc66424a265f"
      },
      "source": [
        "maze = generator.MAZE_teste_coin_2\n",
        "problem = PacManProblem(initial=maze.start_position, goal=maze.goal_position, maze_map=maze.maze_map)\n",
        "root = uniform_cost_search(problem)\n",
        "path = root.solution()\n",
        "\n",
        "maze.show_search_path()\n",
        "maze.show_search_path(reached=path)"
      ],
      "execution_count": 6,
      "outputs": [
        {
          "output_type": "display_data",
          "data": {
            "image/png": "[encoded data removed]",
            "text/plain": [
              "<Figure size 432x288 with 1 Axes>"
            ]
          },
          "metadata": {
            "tags": [],
            "needs_background": "light"
          }
        },
        {
          "output_type": "display_data",
          "data": {
            "image/png": "[encoded data removed]",
            "text/plain": [
              "<Figure size 432x288 with 1 Axes>"
            ]
          },
          "metadata": {
            "tags": [],
            "needs_background": "light"
          }
        }
      ]
    },
    {
      "cell_type": "markdown",
      "metadata": {
        "id": "bB2Ge1Zbv3iU",
        "colab_type": "text"
      },
      "source": [
        "# **Testing Uniform Cost Search with MAZE_teste_coin_2 and PacManProblem2**"
      ]
    },
    {
      "cell_type": "code",
      "metadata": {
        "id": "Fn8qZk5Tv7db",
        "colab_type": "code",
        "colab": {
          "base_uri": "https://localhost:8080/",
          "height": 479
        },
        "outputId": "bdcf9b4b-4e62-463b-dcad-b99970125e92"
      },
      "source": [
        "maze = generator.MAZE_teste_coin_2\n",
        "problem = PacManProblem2(initial=maze.start_position, goal=maze.goal_position, maze_map=maze.maze_map)\n",
        "root = uniform_cost_search(problem)\n",
        "path = root.solution()\n",
        "\n",
        "maze.show_search_path()\n",
        "maze.show_search_path(reached=path)"
      ],
      "execution_count": 4,
      "outputs": [
        {
          "output_type": "display_data",
          "data": {
            "image/png": "[encoded data removed]",
            "text/plain": [
              "<Figure size 432x288 with 1 Axes>"
            ]
          },
          "metadata": {
            "tags": [],
            "needs_background": "light"
          }
        },
        {
          "output_type": "display_data",
          "data": {
            "image/png": "[encoded data removed]",
            "text/plain": [
              "<Figure size 432x288 with 1 Axes>"
            ]
          },
          "metadata": {
            "tags": [],
            "needs_background": "light"
          }
        }
      ]
    },
    {
      "cell_type": "markdown",
      "metadata": {
        "id": "cBkNfiCy3qwC",
        "colab_type": "text"
      },
      "source": [
        "# **Testing Uniform Cost Search with MAZE_teste_coin_2 and PacManProblem3**"
      ]
    },
    {
      "cell_type": "markdown",
      "metadata": {
        "id": "v6kaHeUt5noG",
        "colab_type": "text"
      },
      "source": [
        "In this test with PacManProblem3, the coin is more important, regardless of the path size. So, the optimal solution is the long path with the coin, reducing the cost."
      ]
    },
    {
      "cell_type": "code",
      "metadata": {
        "id": "0Pkz05AO3ucs",
        "colab_type": "code",
        "colab": {
          "base_uri": "https://localhost:8080/",
          "height": 479
        },
        "outputId": "76f7b86f-9b93-4e44-dd86-f577a925fda1"
      },
      "source": [
        "maze = generator.MAZE_teste_coin_2\n",
        "problem = PacManProblem3(initial=maze.start_position, goal=maze.goal_position, maze_map=maze.maze_map)\n",
        "root = uniform_cost_search(problem)\n",
        "path = root.solution()\n",
        "\n",
        "maze.show_search_path()\n",
        "maze.show_search_path(reached=path)"
      ],
      "execution_count": 4,
      "outputs": [
        {
          "output_type": "display_data",
          "data": {
            "image/png": "[encoded data removed]",
            "text/plain": [
              "<Figure size 432x288 with 1 Axes>"
            ]
          },
          "metadata": {
            "tags": [],
            "needs_background": "light"
          }
        },
        {
          "output_type": "display_data",
          "data": {
            "image/png": "[encoded data removed]",
            "text/plain": [
              "<Figure size 432x288 with 1 Axes>"
            ]
          },
          "metadata": {
            "tags": [],
            "needs_background": "light"
          }
        }
      ]
    },
    {
      "cell_type": "markdown",
      "metadata": {
        "id": "EpWZyCtNXttj",
        "colab_type": "text"
      },
      "source": [
        "# **Testing Uniform Cost Search with MAZE_6 and PacManProblem1**"
      ]
    },
    {
      "cell_type": "markdown",
      "metadata": {
        "id": "SHctRBEscMn-",
        "colab_type": "text"
      },
      "source": [
        "In this test with MAZE_6 we have just one mininal path to archieve the goal but we can't assume it because we can reduce the final cost going down to catch the coins, even if the path is longer than the first one."
      ]
    },
    {
      "cell_type": "code",
      "metadata": {
        "id": "qXqBWPTMYG1R",
        "colab_type": "code",
        "outputId": "216dac93-a257-4c8e-b55a-1011c2017fa4",
        "colab": {
          "base_uri": "https://localhost:8080/",
          "height": 479
        }
      },
      "source": [
        "maze = generator.MAZE_6\n",
        "problem = PacManProblem(initial=maze.start_position, goal=maze.goal_position, maze_map=maze.maze_map)\n",
        "root = uniform_cost_search(problem)\n",
        "path = root.solution()\n",
        "\n",
        "maze.show_search_path()\n",
        "maze.show_search_path(reached=path)"
      ],
      "execution_count": 7,
      "outputs": [
        {
          "output_type": "display_data",
          "data": {
            "image/png": "[encoded data removed]",
            "text/plain": [
              "<Figure size 432x288 with 1 Axes>"
            ]
          },
          "metadata": {
            "tags": [],
            "needs_background": "light"
          }
        },
        {
          "output_type": "display_data",
          "data": {
            "image/png": "[encoded data removed]",
            "text/plain": [
              "<Figure size 432x288 with 1 Axes>"
            ]
          },
          "metadata": {
            "tags": [],
            "needs_background": "light"
          }
        }
      ]
    },
    {
      "cell_type": "markdown",
      "metadata": {
        "id": "3iR9rHL3wCeh",
        "colab_type": "text"
      },
      "source": [
        "# **Testing Uniform Cost Search with MAZE_6 and PacManProblem2**"
      ]
    },
    {
      "cell_type": "markdown",
      "metadata": {
        "id": "7068iLlHwQeS",
        "colab_type": "text"
      },
      "source": [
        "In this test with MAZE_6 and PacManProblem2 implementation, the coin has less importance than the first implementation, so longer paths will increase more the cost of the solution and there are some situations where the coins are not as sufficient as enough to resolve. So we choose the mininal path without many coins."
      ]
    },
    {
      "cell_type": "code",
      "metadata": {
        "id": "_ZMz38aqwGa0",
        "colab_type": "code",
        "colab": {
          "base_uri": "https://localhost:8080/",
          "height": 479
        },
        "outputId": "94dbfd19-1577-4e26-e72e-94aaa20a781d"
      },
      "source": [
        "maze = generator.MAZE_6\n",
        "problem = PacManProblem2(initial=maze.start_position, goal=maze.goal_position, maze_map=maze.maze_map)\n",
        "root = uniform_cost_search(problem)\n",
        "path = root.solution()\n",
        "\n",
        "maze.show_search_path()\n",
        "maze.show_search_path(reached=path)"
      ],
      "execution_count": 5,
      "outputs": [
        {
          "output_type": "display_data",
          "data": {
            "image/png": "[encoded data removed]",
            "text/plain": [
              "<Figure size 432x288 with 1 Axes>"
            ]
          },
          "metadata": {
            "tags": [],
            "needs_background": "light"
          }
        },
        {
          "output_type": "display_data",
          "data": {
            "image/png": "[encoded data removed]",
            "text/plain": [
              "<Figure size 432x288 with 1 Axes>"
            ]
          },
          "metadata": {
            "tags": [],
            "needs_background": "light"
          }
        }
      ]
    },
    {
      "cell_type": "markdown",
      "metadata": {
        "id": "7hJLVT1f6Z6d",
        "colab_type": "text"
      },
      "source": [
        "# **Testing Uniform Cost Search with MAZE_6 and PacManProblem3**"
      ]
    },
    {
      "cell_type": "code",
      "metadata": {
        "id": "mYS6uT8-6ekQ",
        "colab_type": "code",
        "colab": {
          "base_uri": "https://localhost:8080/",
          "height": 479
        },
        "outputId": "b75ffcbb-c738-4d32-b482-74f4cbdf9b2c"
      },
      "source": [
        "maze = generator.MAZE_6\n",
        "problem = PacManProblem3(initial=maze.start_position, goal=maze.goal_position, maze_map=maze.maze_map)\n",
        "root = uniform_cost_search(problem)\n",
        "path = root.solution()\n",
        "\n",
        "maze.show_search_path()\n",
        "maze.show_search_path(reached=path)"
      ],
      "execution_count": 5,
      "outputs": [
        {
          "output_type": "display_data",
          "data": {
            "image/png": "[encoded data removed]",
            "text/plain": [
              "<Figure size 432x288 with 1 Axes>"
            ]
          },
          "metadata": {
            "tags": [],
            "needs_background": "light"
          }
        },
        {
          "output_type": "display_data",
          "data": {
            "image/png": "[encoded data removed]",
            "text/plain": [
              "<Figure size 432x288 with 1 Axes>"
            ]
          },
          "metadata": {
            "tags": [],
            "needs_background": "light"
          }
        }
      ]
    }
  ]
}